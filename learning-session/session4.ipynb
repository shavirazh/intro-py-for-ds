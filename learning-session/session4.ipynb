{
 "cells": [
  {
   "cell_type": "code",
   "execution_count": 1,
   "id": "bcce89fe",
   "metadata": {},
   "outputs": [
    {
     "name": "stdout",
     "output_type": "stream",
     "text": [
      "Hello World\n"
     ]
    }
   ],
   "source": [
    "print(\"Hello World\")"
   ]
  },
  {
   "cell_type": "code",
   "execution_count": 22,
   "id": "f42626d0",
   "metadata": {},
   "outputs": [],
   "source": [
    "#import data from csv \n",
    "dataset = np.genfromtxt(\"dataset.csv\", skip_header=1, delimiter=\",\", filling_values=40)"
   ]
  },
  {
   "cell_type": "code",
   "execution_count": 7,
   "id": "93ba06d5",
   "metadata": {},
   "outputs": [
    {
     "data": {
      "text/plain": [
       "array([[70., 75., 80., 30.],\n",
       "       [75., 80., 90., 68.],\n",
       "       [65., 77., 60., 90.],\n",
       "       [40., 60., 55., 75.]])"
      ]
     },
     "execution_count": 7,
     "metadata": {},
     "output_type": "execute_result"
    }
   ],
   "source": [
    "dataset"
   ]
  },
  {
   "cell_type": "code",
   "execution_count": 8,
   "id": "ab8d0aef",
   "metadata": {},
   "outputs": [
    {
     "data": {
      "text/plain": [
       "30.0"
      ]
     },
     "execution_count": 8,
     "metadata": {},
     "output_type": "execute_result"
    }
   ],
   "source": [
    "dataset.min()"
   ]
  },
  {
   "cell_type": "code",
   "execution_count": 9,
   "id": "e54010b3",
   "metadata": {},
   "outputs": [
    {
     "data": {
      "text/plain": [
       "90.0"
      ]
     },
     "execution_count": 9,
     "metadata": {},
     "output_type": "execute_result"
    }
   ],
   "source": [
    "dataset.max()"
   ]
  },
  {
   "cell_type": "code",
   "execution_count": 12,
   "id": "51cce209",
   "metadata": {},
   "outputs": [
    {
     "data": {
      "text/plain": [
       "array([250., 292., 285., 263.])"
      ]
     },
     "execution_count": 12,
     "metadata": {},
     "output_type": "execute_result"
    }
   ],
   "source": [
    "dataset.sum(axis=0) #menjumlahkan seluruh data baris"
   ]
  },
  {
   "cell_type": "code",
   "execution_count": 13,
   "id": "331e12e8",
   "metadata": {},
   "outputs": [
    {
     "data": {
      "text/plain": [
       "array([255., 313., 292., 230.])"
      ]
     },
     "execution_count": 13,
     "metadata": {},
     "output_type": "execute_result"
    }
   ],
   "source": [
    "dataset.sum(axis=1) #menjumlahkan seluruh data kolom"
   ]
  },
  {
   "cell_type": "code",
   "execution_count": 23,
   "id": "547973d8",
   "metadata": {},
   "outputs": [
    {
     "data": {
      "text/plain": [
       "array([62.5 , 73.  , 71.25, 65.75])"
      ]
     },
     "execution_count": 23,
     "metadata": {},
     "output_type": "execute_result"
    }
   ],
   "source": [
    "dataset.mean(axis=0)"
   ]
  },
  {
   "cell_type": "code",
   "execution_count": 21,
   "id": "42cebb60",
   "metadata": {},
   "outputs": [
    {
     "data": {
      "text/plain": [
       "71.25"
      ]
     },
     "execution_count": 21,
     "metadata": {},
     "output_type": "execute_result"
    }
   ],
   "source": [
    "np.percentile(dataset[:,0], 75) #Q3"
   ]
  },
  {
   "cell_type": "code",
   "execution_count": 20,
   "id": "5e503441",
   "metadata": {},
   "outputs": [
    {
     "data": {
      "text/plain": [
       "58.75"
      ]
     },
     "execution_count": 20,
     "metadata": {},
     "output_type": "execute_result"
    }
   ],
   "source": [
    "np.percentile(dataset[:,0], 25) #Q1"
   ]
  },
  {
   "cell_type": "code",
   "execution_count": 22,
   "id": "472d16f0",
   "metadata": {},
   "outputs": [
    {
     "data": {
      "text/plain": [
       "62.5"
      ]
     },
     "execution_count": 22,
     "metadata": {},
     "output_type": "execute_result"
    }
   ],
   "source": [
    "np.mean(dataset[:,0])"
   ]
  },
  {
   "cell_type": "code",
   "execution_count": 1,
   "id": "9ea6db35",
   "metadata": {},
   "outputs": [],
   "source": [
    "# np.append(dataset[80,70,76,90], axis=1) cara ngeappend data"
   ]
  },
  {
   "cell_type": "code",
   "execution_count": null,
   "id": "65b71671",
   "metadata": {},
   "outputs": [],
   "source": [
    "#image processing"
   ]
  },
  {
   "cell_type": "code",
   "execution_count": 1,
   "id": "836b4770",
   "metadata": {},
   "outputs": [],
   "source": [
    "import numpy as np"
   ]
  },
  {
   "cell_type": "code",
   "execution_count": 49,
   "id": "70bca639",
   "metadata": {},
   "outputs": [
    {
     "name": "stdout",
     "output_type": "stream",
     "text": [
      "[1 2 3 4 5 6]\n"
     ]
    }
   ],
   "source": [
    "myArray = np.array([1,2,3,4,5,6])\n",
    "print(myArray)"
   ]
  },
  {
   "cell_type": "code",
   "execution_count": 10,
   "id": "96a1de04",
   "metadata": {},
   "outputs": [
    {
     "data": {
      "text/plain": [
       "array([2, 3])"
      ]
     },
     "execution_count": 10,
     "metadata": {},
     "output_type": "execute_result"
    }
   ],
   "source": [
    "myArray[1:3]"
   ]
  },
  {
   "cell_type": "code",
   "execution_count": 14,
   "id": "e80c4b65",
   "metadata": {},
   "outputs": [
    {
     "ename": "AttributeError",
     "evalue": "'numpy.ndarray' object has no attribute 'count'",
     "output_type": "error",
     "traceback": [
      "\u001b[1;31m---------------------------------------------------------------------------\u001b[0m",
      "\u001b[1;31mAttributeError\u001b[0m                            Traceback (most recent call last)",
      "\u001b[1;32m<ipython-input-14-f58e735a1dde>\u001b[0m in \u001b[0;36m<module>\u001b[1;34m\u001b[0m\n\u001b[1;32m----> 1\u001b[1;33m \u001b[0mmyArray\u001b[0m\u001b[1;33m[\u001b[0m\u001b[0mmyArray\u001b[0m \u001b[1;33m>\u001b[0m \u001b[1;36m3\u001b[0m\u001b[1;33m]\u001b[0m\u001b[1;33m.\u001b[0m\u001b[0mcount\u001b[0m\u001b[1;33m\u001b[0m\u001b[1;33m\u001b[0m\u001b[0m\n\u001b[0m",
      "\u001b[1;31mAttributeError\u001b[0m: 'numpy.ndarray' object has no attribute 'count'"
     ]
    }
   ],
   "source": [
    "myArray[myArray > 3]"
   ]
  },
  {
   "cell_type": "code",
   "execution_count": 47,
   "id": "b76dd85f",
   "metadata": {},
   "outputs": [
    {
     "name": "stdout",
     "output_type": "stream",
     "text": [
      "[[ 1  2  3  4]\n",
      " [ 4  5  6  7]\n",
      " [ 8  9 10 11]]\n"
     ]
    }
   ],
   "source": [
    "array2D = np.array(([1,2,3,4],[4,5,6,7],[8,9,10,11]))\n",
    "print(array2D)"
   ]
  },
  {
   "cell_type": "code",
   "execution_count": 19,
   "id": "1042ac70",
   "metadata": {},
   "outputs": [
    {
     "data": {
      "text/plain": [
       "array([5, 6])"
      ]
     },
     "execution_count": 19,
     "metadata": {},
     "output_type": "execute_result"
    }
   ],
   "source": [
    "array2D[1,1:3]"
   ]
  },
  {
   "cell_type": "code",
   "execution_count": 21,
   "id": "ac58a7eb",
   "metadata": {},
   "outputs": [
    {
     "data": {
      "text/plain": [
       "array([[ 1,  2,  3],\n",
       "       [ 4,  5,  6],\n",
       "       [ 8,  9, 10]])"
      ]
     },
     "execution_count": 21,
     "metadata": {},
     "output_type": "execute_result"
    }
   ],
   "source": [
    "array2D[0:,:3]"
   ]
  },
  {
   "cell_type": "code",
   "execution_count": 23,
   "id": "2a507469",
   "metadata": {},
   "outputs": [
    {
     "data": {
      "text/plain": [
       "array([[70., 75., 80., 30.],\n",
       "       [75., 80., 90., 68.],\n",
       "       [65., 77., 60., 90.],\n",
       "       [40., 60., 55., 75.]])"
      ]
     },
     "execution_count": 23,
     "metadata": {},
     "output_type": "execute_result"
    }
   ],
   "source": [
    "dataset"
   ]
  },
  {
   "cell_type": "code",
   "execution_count": 25,
   "id": "053e9f94",
   "metadata": {},
   "outputs": [
    {
     "data": {
      "text/plain": [
       "(4, 4)"
      ]
     },
     "execution_count": 25,
     "metadata": {},
     "output_type": "execute_result"
    }
   ],
   "source": [
    "dataset.shape"
   ]
  },
  {
   "cell_type": "code",
   "execution_count": 28,
   "id": "e305cc2a",
   "metadata": {},
   "outputs": [
    {
     "data": {
      "text/plain": [
       "array([63.75, 78.25, 73.  , 57.5 ])"
      ]
     },
     "execution_count": 28,
     "metadata": {},
     "output_type": "execute_result"
    }
   ],
   "source": [
    "dataset.mean(axis = 1)"
   ]
  },
  {
   "cell_type": "code",
   "execution_count": 38,
   "id": "255a59c0",
   "metadata": {},
   "outputs": [
    {
     "data": {
      "text/plain": [
       "array([1, 2, 3, 4, 5, 6, 7, 8, 9])"
      ]
     },
     "execution_count": 38,
     "metadata": {},
     "output_type": "execute_result"
    }
   ],
   "source": [
    "myArangeArray = np.arange(start=1, stop=10, step=1)\n",
    "myArangeArray"
   ]
  },
  {
   "cell_type": "code",
   "execution_count": 37,
   "id": "084664d1",
   "metadata": {},
   "outputs": [
    {
     "data": {
      "text/plain": [
       "array([[0.00000000e+000, 0.00000000e+000, 0.00000000e+000],\n",
       "       [0.00000000e+000, 0.00000000e+000, 4.80231808e-321],\n",
       "       [8.01092456e-307, 7.56598448e-307, 3.56169948e-317]])"
      ]
     },
     "execution_count": 37,
     "metadata": {},
     "output_type": "execute_result"
    }
   ],
   "source": [
    "myEmptyArray = np.empty(shape = (3,3))\n",
    "myEmptyArray"
   ]
  },
  {
   "cell_type": "code",
   "execution_count": 41,
   "id": "78b4ce6b",
   "metadata": {},
   "outputs": [
    {
     "data": {
      "text/plain": [
       "2"
      ]
     },
     "execution_count": 41,
     "metadata": {},
     "output_type": "execute_result"
    }
   ],
   "source": [
    "array2D.ndim"
   ]
  },
  {
   "cell_type": "code",
   "execution_count": 44,
   "id": "6c37f80a",
   "metadata": {},
   "outputs": [
    {
     "ename": "NameError",
     "evalue": "name 'ndarray' is not defined",
     "output_type": "error",
     "traceback": [
      "\u001b[1;31m---------------------------------------------------------------------------\u001b[0m",
      "\u001b[1;31mNameError\u001b[0m                                 Traceback (most recent call last)",
      "\u001b[1;32m<ipython-input-44-3bb8d649ed78>\u001b[0m in \u001b[0;36m<module>\u001b[1;34m\u001b[0m\n\u001b[1;32m----> 1\u001b[1;33m \u001b[0mndarray\u001b[0m\u001b[1;33m.\u001b[0m\u001b[0mndim\u001b[0m\u001b[1;33m(\u001b[0m\u001b[0marray2D\u001b[0m\u001b[1;33m)\u001b[0m\u001b[1;33m\u001b[0m\u001b[1;33m\u001b[0m\u001b[0m\n\u001b[0m",
      "\u001b[1;31mNameError\u001b[0m: name 'ndarray' is not defined"
     ]
    }
   ],
   "source": [
    "ndarray.ndim(array2D)"
   ]
  },
  {
   "cell_type": "code",
   "execution_count": 43,
   "id": "1b188ebf",
   "metadata": {},
   "outputs": [
    {
     "data": {
      "text/plain": [
       "1"
      ]
     },
     "execution_count": 43,
     "metadata": {},
     "output_type": "execute_result"
    }
   ],
   "source": [
    "np.ndim(myArray)"
   ]
  },
  {
   "cell_type": "code",
   "execution_count": 45,
   "id": "c2e34fc9",
   "metadata": {},
   "outputs": [
    {
     "data": {
      "text/plain": [
       "5"
      ]
     },
     "execution_count": 45,
     "metadata": {},
     "output_type": "execute_result"
    }
   ],
   "source": [
    "np.size(myArray)"
   ]
  },
  {
   "cell_type": "code",
   "execution_count": 51,
   "id": "dae05103",
   "metadata": {},
   "outputs": [
    {
     "name": "stdout",
     "output_type": "stream",
     "text": [
      "[[1 2 3]\n",
      " [4 5 6]]\n"
     ]
    }
   ],
   "source": [
    "reshape_myArray = np.reshape(myArray, (2,3))\n",
    "print(reshape_myArray)"
   ]
  },
  {
   "cell_type": "code",
   "execution_count": 54,
   "id": "b20bcc1e",
   "metadata": {},
   "outputs": [
    {
     "data": {
      "text/plain": [
       "2"
      ]
     },
     "execution_count": 54,
     "metadata": {},
     "output_type": "execute_result"
    }
   ],
   "source": [
    "np.ndim(reshape_myArray)"
   ]
  },
  {
   "cell_type": "code",
   "execution_count": 56,
   "id": "d87f8e2c",
   "metadata": {},
   "outputs": [
    {
     "ename": "ValueError",
     "evalue": "operands could not be broadcast together with shapes (5,) (4,) ",
     "output_type": "error",
     "traceback": [
      "\u001b[1;31m---------------------------------------------------------------------------\u001b[0m",
      "\u001b[1;31mValueError\u001b[0m                                Traceback (most recent call last)",
      "\u001b[1;32m<ipython-input-56-3f36726b11e5>\u001b[0m in \u001b[0;36m<module>\u001b[1;34m\u001b[0m\n\u001b[0;32m      1\u001b[0m \u001b[0mArray1\u001b[0m \u001b[1;33m=\u001b[0m \u001b[0mnp\u001b[0m\u001b[1;33m.\u001b[0m\u001b[0marray\u001b[0m\u001b[1;33m(\u001b[0m\u001b[1;33m[\u001b[0m\u001b[1;36m1\u001b[0m\u001b[1;33m,\u001b[0m\u001b[1;36m2\u001b[0m\u001b[1;33m,\u001b[0m\u001b[1;36m3\u001b[0m\u001b[1;33m,\u001b[0m\u001b[1;36m4\u001b[0m\u001b[1;33m,\u001b[0m\u001b[1;36m5\u001b[0m\u001b[1;33m]\u001b[0m\u001b[1;33m)\u001b[0m\u001b[1;33m\u001b[0m\u001b[1;33m\u001b[0m\u001b[0m\n\u001b[0;32m      2\u001b[0m \u001b[0mArray2\u001b[0m \u001b[1;33m=\u001b[0m \u001b[0mnp\u001b[0m\u001b[1;33m.\u001b[0m\u001b[0marray\u001b[0m\u001b[1;33m(\u001b[0m\u001b[1;33m[\u001b[0m\u001b[1;36m6\u001b[0m\u001b[1;33m,\u001b[0m\u001b[1;36m7\u001b[0m\u001b[1;33m,\u001b[0m\u001b[1;36m8\u001b[0m\u001b[1;33m,\u001b[0m\u001b[1;36m9\u001b[0m\u001b[1;33m]\u001b[0m\u001b[1;33m)\u001b[0m\u001b[1;33m\u001b[0m\u001b[1;33m\u001b[0m\u001b[0m\n\u001b[1;32m----> 3\u001b[1;33m \u001b[0mprint\u001b[0m\u001b[1;33m(\u001b[0m\u001b[0mArray1\u001b[0m\u001b[1;33m*\u001b[0m\u001b[0mArray2\u001b[0m\u001b[1;33m)\u001b[0m\u001b[1;33m\u001b[0m\u001b[1;33m\u001b[0m\u001b[0m\n\u001b[0m",
      "\u001b[1;31mValueError\u001b[0m: operands could not be broadcast together with shapes (5,) (4,) "
     ]
    }
   ],
   "source": [
    "Array1 = np.array([1,2,3,4,5])\n",
    "Array2 = np.array([6,7,8,9])\n",
    "print(Array1*Array2)"
   ]
  },
  {
   "cell_type": "code",
   "execution_count": 59,
   "id": "1780dc56",
   "metadata": {},
   "outputs": [
    {
     "name": "stdout",
     "output_type": "stream",
     "text": [
      "[[1 2 3]\n",
      " [4 5 6]\n",
      " [7 8 9]]\n"
     ]
    }
   ],
   "source": [
    "myMatrices = np.array([[1,2,3],[4,5,6],[7,8,9]])\n",
    "print(myMatrices)"
   ]
  },
  {
   "cell_type": "code",
   "execution_count": 60,
   "id": "a1cde6bb",
   "metadata": {},
   "outputs": [
    {
     "data": {
      "text/plain": [
       "2"
      ]
     },
     "execution_count": 60,
     "metadata": {},
     "output_type": "execute_result"
    }
   ],
   "source": [
    "myMatrices.ndim"
   ]
  },
  {
   "cell_type": "code",
   "execution_count": null,
   "id": "e2d16e95",
   "metadata": {},
   "outputs": [],
   "source": []
  }
 ],
 "metadata": {
  "kernelspec": {
   "display_name": "Python 3",
   "language": "python",
   "name": "python3"
  },
  "language_info": {
   "codemirror_mode": {
    "name": "ipython",
    "version": 3
   },
   "file_extension": ".py",
   "mimetype": "text/x-python",
   "name": "python",
   "nbconvert_exporter": "python",
   "pygments_lexer": "ipython3",
   "version": "3.8.8"
  },
  "toc": {
   "base_numbering": 1,
   "nav_menu": {},
   "number_sections": true,
   "sideBar": true,
   "skip_h1_title": false,
   "title_cell": "Table of Contents",
   "title_sidebar": "Contents",
   "toc_cell": false,
   "toc_position": {},
   "toc_section_display": true,
   "toc_window_display": false
  },
  "varInspector": {
   "cols": {
    "lenName": 16,
    "lenType": 16,
    "lenVar": 40
   },
   "kernels_config": {
    "python": {
     "delete_cmd_postfix": "",
     "delete_cmd_prefix": "del ",
     "library": "var_list.py",
     "varRefreshCmd": "print(var_dic_list())"
    },
    "r": {
     "delete_cmd_postfix": ") ",
     "delete_cmd_prefix": "rm(",
     "library": "var_list.r",
     "varRefreshCmd": "cat(var_dic_list()) "
    }
   },
   "types_to_exclude": [
    "module",
    "function",
    "builtin_function_or_method",
    "instance",
    "_Feature"
   ],
   "window_display": false
  }
 },
 "nbformat": 4,
 "nbformat_minor": 5
}
