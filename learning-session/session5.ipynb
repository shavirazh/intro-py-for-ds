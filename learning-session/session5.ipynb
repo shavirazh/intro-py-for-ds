{
 "cells": [
  {
   "cell_type": "markdown",
   "id": "47263b5a",
   "metadata": {},
   "source": [
    "### Pandas Series\n",
    "Coba pelajarin lagi tentang date range ya, formatnya gimana"
   ]
  },
  {
   "cell_type": "code",
   "execution_count": 1,
   "id": "38bbcb04",
   "metadata": {},
   "outputs": [
    {
     "name": "stdout",
     "output_type": "stream",
     "text": [
      "Hello World\n"
     ]
    }
   ],
   "source": [
    "print(\"Hello World\")"
   ]
  },
  {
   "cell_type": "code",
   "execution_count": 37,
   "id": "f3c8f6a7",
   "metadata": {},
   "outputs": [],
   "source": [
    "import pandas as pd\n",
    "import numpy as np"
   ]
  },
  {
   "cell_type": "code",
   "execution_count": 2,
   "id": "04f20f62",
   "metadata": {},
   "outputs": [
    {
     "data": {
      "text/plain": [
       "0      2\n",
       "1      3\n",
       "2      6\n",
       "3      4\n",
       "4     32\n",
       "5    334\n",
       "6    332\n",
       "dtype: int64"
      ]
     },
     "execution_count": 2,
     "metadata": {},
     "output_type": "execute_result"
    }
   ],
   "source": [
    "my_series = pd.Series([2,3,6,4,32,334,332])\n",
    "my_series"
   ]
  },
  {
   "cell_type": "code",
   "execution_count": 3,
   "id": "f90d7506",
   "metadata": {},
   "outputs": [
    {
     "data": {
      "text/plain": [
       "0       2\n",
       "2       3\n",
       "4       6\n",
       "6       4\n",
       "8      32\n",
       "10    334\n",
       "12    332\n",
       "dtype: int64"
      ]
     },
     "execution_count": 3,
     "metadata": {},
     "output_type": "execute_result"
    }
   ],
   "source": [
    "my_series.index = pd.RangeIndex(start=0, step=2, stop=14) #mengubah indeks\n",
    "my_series"
   ]
  },
  {
   "cell_type": "code",
   "execution_count": 5,
   "id": "5e1ff504",
   "metadata": {},
   "outputs": [
    {
     "data": {
      "text/plain": [
       "4"
      ]
     },
     "execution_count": 5,
     "metadata": {},
     "output_type": "execute_result"
    }
   ],
   "source": [
    "my_series[6]"
   ]
  },
  {
   "cell_type": "code",
   "execution_count": 7,
   "id": "dd12100d",
   "metadata": {},
   "outputs": [
    {
     "data": {
      "text/plain": [
       "a    12\n",
       "b    23\n",
       "c    55\n",
       "d    67\n",
       "dtype: int64"
      ]
     },
     "execution_count": 7,
     "metadata": {},
     "output_type": "execute_result"
    }
   ],
   "source": [
    "my_series_2 = pd.Series([12,23,55,67], index=[\"a\",\"b\",\"c\",\"d\"])\n",
    "my_series_2"
   ]
  },
  {
   "cell_type": "code",
   "execution_count": 9,
   "id": "b20d7700",
   "metadata": {},
   "outputs": [
    {
     "data": {
      "text/plain": [
       "23"
      ]
     },
     "execution_count": 9,
     "metadata": {},
     "output_type": "execute_result"
    }
   ],
   "source": [
    "my_series_2[\"b\"]"
   ]
  },
  {
   "cell_type": "code",
   "execution_count": 11,
   "id": "d7da7c92",
   "metadata": {},
   "outputs": [
    {
     "data": {
      "text/plain": [
       "6"
      ]
     },
     "execution_count": 11,
     "metadata": {},
     "output_type": "execute_result"
    }
   ],
   "source": [
    "my_series.iloc[2] #alokasi data menurut indeks asal (default index) sesuai urutan kaya 0,1,2,3\n",
    "my_series.loc[2] #alokasi data menurut indeks yang ada di datanya"
   ]
  },
  {
   "cell_type": "code",
   "execution_count": 26,
   "id": "91583094",
   "metadata": {},
   "outputs": [],
   "source": [
    "mySeriesDict = pd.Series({\"Name\": \"Hacktiv8\", \"Place\": \"Jakarta\"})\n",
    "mySeriesDict_2 = pd.Series({\"Name\":\"Han\", \"Age\":21})"
   ]
  },
  {
   "cell_type": "code",
   "execution_count": 27,
   "id": "b8a7755c",
   "metadata": {},
   "outputs": [
    {
     "data": {
      "text/plain": [
       "Name     Hacktiv8\n",
       "Place     Jakarta\n",
       "dtype: object"
      ]
     },
     "execution_count": 27,
     "metadata": {},
     "output_type": "execute_result"
    }
   ],
   "source": [
    "mySeriesDict"
   ]
  },
  {
   "cell_type": "code",
   "execution_count": 28,
   "id": "a0c9fdc9",
   "metadata": {},
   "outputs": [
    {
     "data": {
      "text/plain": [
       "Name    Han\n",
       "Age      21\n",
       "dtype: object"
      ]
     },
     "execution_count": 28,
     "metadata": {},
     "output_type": "execute_result"
    }
   ],
   "source": [
    "mySeriesDict_2"
   ]
  },
  {
   "cell_type": "code",
   "execution_count": 31,
   "id": "d0ca9537",
   "metadata": {},
   "outputs": [
    {
     "data": {
      "text/plain": [
       "True"
      ]
     },
     "execution_count": 31,
     "metadata": {},
     "output_type": "execute_result"
    }
   ],
   "source": [
    "mySeriesDict[0] == mySeriesDict[\"Name\"]"
   ]
  },
  {
   "cell_type": "code",
   "execution_count": 34,
   "id": "351ee0ed",
   "metadata": {},
   "outputs": [],
   "source": [
    "Series_Dict = pd.Series({\"Jakarta\":1, \"London\":2, \"Tokyo\":3})\n",
    "Series_Dict.name = \"try pandas\"\n",
    "Series_Dict.index.name = \"city\""
   ]
  },
  {
   "cell_type": "code",
   "execution_count": 36,
   "id": "6879d341",
   "metadata": {},
   "outputs": [
    {
     "data": {
      "text/plain": [
       "city\n",
       "Jakarta    1\n",
       "London     2\n",
       "Tokyo      3\n",
       "Name: try pandas, dtype: int64"
      ]
     },
     "execution_count": 36,
     "metadata": {},
     "output_type": "execute_result"
    }
   ],
   "source": [
    "Series_Dict"
   ]
  },
  {
   "cell_type": "code",
   "execution_count": 39,
   "id": "b86008da",
   "metadata": {},
   "outputs": [],
   "source": [
    "range = pd.date_range(\"7/09/2021\", periods=60, freq = \"D\") #cara bikin range emang formatnya begini, coba nanti lagi\n",
    "valueluw = np.random.random([60])\n",
    "\n",
    "myDateSeries = pd.Series(valueluw, index = range)"
   ]
  },
  {
   "cell_type": "code",
   "execution_count": 43,
   "id": "0355ee6a",
   "metadata": {},
   "outputs": [
    {
     "data": {
      "text/plain": [
       "2021-07-09    0.683280\n",
       "2021-07-10    0.397844\n",
       "2021-07-11    0.927078\n",
       "2021-07-12    0.751142\n",
       "2021-07-13    0.430341\n",
       "2021-07-14    0.745690\n",
       "2021-07-15    0.897220\n",
       "2021-07-16    0.605007\n",
       "2021-07-17    0.512977\n",
       "2021-07-18    0.725920\n",
       "2021-07-19    0.068794\n",
       "2021-07-20    0.248157\n",
       "2021-07-21    0.733264\n",
       "2021-07-22    0.248434\n",
       "2021-07-23    0.480871\n",
       "2021-07-24    0.101528\n",
       "2021-07-25    0.985935\n",
       "2021-07-26    0.687125\n",
       "2021-07-27    0.940696\n",
       "2021-07-28    0.936510\n",
       "2021-07-29    0.919085\n",
       "2021-07-30    0.042133\n",
       "2021-07-31    0.219130\n",
       "2021-08-01    0.687967\n",
       "2021-08-02    0.356156\n",
       "2021-08-03    0.028356\n",
       "2021-08-04    0.333578\n",
       "2021-08-05    0.131513\n",
       "2021-08-06    0.083244\n",
       "2021-08-07    0.477807\n",
       "2021-08-08    0.203365\n",
       "2021-08-09    0.385287\n",
       "2021-08-10    0.271865\n",
       "2021-08-11    0.037430\n",
       "2021-08-12    0.647977\n",
       "2021-08-13    0.774949\n",
       "2021-08-14    0.045157\n",
       "2021-08-15    0.196779\n",
       "2021-08-16    0.669598\n",
       "2021-08-17    0.781529\n",
       "2021-08-18    0.291019\n",
       "2021-08-19    0.362333\n",
       "2021-08-20    0.441987\n",
       "2021-08-21    0.191827\n",
       "2021-08-22    0.568248\n",
       "2021-08-23    0.342410\n",
       "2021-08-24    0.565023\n",
       "2021-08-25    0.374164\n",
       "2021-08-26    0.147945\n",
       "2021-08-27    0.152472\n",
       "2021-08-28    0.143955\n",
       "2021-08-29    0.982356\n",
       "2021-08-30    0.322596\n",
       "2021-08-31    0.289633\n",
       "2021-09-01    0.447678\n",
       "2021-09-02    0.235375\n",
       "2021-09-03    0.795269\n",
       "2021-09-04    0.269775\n",
       "2021-09-05    0.719594\n",
       "2021-09-06    0.547519\n",
       "Freq: D, dtype: float64"
      ]
     },
     "execution_count": 43,
     "metadata": {},
     "output_type": "execute_result"
    }
   ],
   "source": [
    "myDateSeries"
   ]
  },
  {
   "cell_type": "code",
   "execution_count": 52,
   "id": "f431eb6c",
   "metadata": {},
   "outputs": [
    {
     "data": {
      "text/plain": [
       "<AxesSubplot:>"
      ]
     },
     "execution_count": 52,
     "metadata": {},
     "output_type": "execute_result"
    },
    {
     "data": {
      "image/png": "[encoded data removed]",
      "text/plain": [
       "<Figure size 432x288 with 1 Axes>"
      ]
     },
     "metadata": {
      "needs_background": "light"
     },
     "output_type": "display_data"
    }
   ],
   "source": [
    "import matplotlib.pyplot as plt\n",
    "filteredData = myDateSeries[myDateSeries >= 0.5]\n",
    "filteredData.plot()"
   ]
  },
  {
   "cell_type": "code",
   "execution_count": 50,
   "id": "7e78a3c0",
   "metadata": {},
   "outputs": [
    {
     "data": {
      "text/plain": [
       "2021-08-06    0.083244\n",
       "2021-08-07    0.477807\n",
       "2021-08-08    0.203365\n",
       "2021-08-09    0.385287\n",
       "2021-08-10    0.271865\n",
       "2021-08-11    0.037430\n",
       "2021-08-12    0.647977\n",
       "2021-08-13    0.774949\n",
       "2021-08-14    0.045157\n",
       "2021-08-15    0.196779\n",
       "2021-08-16    0.669598\n",
       "2021-08-17    0.781529\n",
       "2021-08-18    0.291019\n",
       "2021-08-19    0.362333\n",
       "2021-08-20    0.441987\n",
       "2021-08-21    0.191827\n",
       "2021-08-22    0.568248\n",
       "2021-08-23    0.342410\n",
       "2021-08-24    0.565023\n",
       "2021-08-25    0.374164\n",
       "2021-08-26    0.147945\n",
       "2021-08-27    0.152472\n",
       "2021-08-28    0.143955\n",
       "2021-08-29    0.982356\n",
       "2021-08-30    0.322596\n",
       "2021-08-31    0.289633\n",
       "Freq: D, dtype: float64"
      ]
     },
     "execution_count": 50,
     "metadata": {},
     "output_type": "execute_result"
    }
   ],
   "source": [
    "filteredIndex = myDateSeries['2021-08-06':'2021-08-31']\n",
    "filteredIndex"
   ]
  },
  {
   "cell_type": "markdown",
   "id": "988deb91",
   "metadata": {},
   "source": [
    "### Data Frame"
   ]
  },
  {
   "cell_type": "code",
   "execution_count": 62,
   "id": "38bb24d1",
   "metadata": {},
   "outputs": [],
   "source": [
    "studentDataFrame = pd.DataFrame({\"Name\":[\"Yeonjun\",\"Beomgyu\",\"Huening Kai\"],\n",
    "                                \"Age\":[22,20,19],\n",
    "                                \"IPK\":[3.0,3.2,3.5],\n",
    "                                \"SKS\":[145,146,147]})"
   ]
  },
  {
   "cell_type": "code",
   "execution_count": 63,
   "id": "62998530",
   "metadata": {},
   "outputs": [
    {
     "data": {
      "text/html": [
       "<div>\n",
       "<style scoped>\n",
       "    .dataframe tbody tr th:only-of-type {\n",
       "        vertical-align: middle;\n",
       "    }\n",
       "\n",
       "    .dataframe tbody tr th {\n",
       "        vertical-align: top;\n",
       "    }\n",
       "\n",
       "    .dataframe thead th {\n",
       "        text-align: right;\n",
       "    }\n",
       "</style>\n",
       "<table border=\"1\" class=\"dataframe\">\n",
       "  <thead>\n",
       "    <tr style=\"text-align: right;\">\n",
       "      <th></th>\n",
       "      <th>Name</th>\n",
       "      <th>Age</th>\n",
       "      <th>IPK</th>\n",
       "      <th>SKS</th>\n",
       "    </tr>\n",
       "  </thead>\n",
       "  <tbody>\n",
       "    <tr>\n",
       "      <th>0</th>\n",
       "      <td>Yeonjun</td>\n",
       "      <td>22</td>\n",
       "      <td>3.0</td>\n",
       "      <td>145</td>\n",
       "    </tr>\n",
       "    <tr>\n",
       "      <th>1</th>\n",
       "      <td>Beomgyu</td>\n",
       "      <td>20</td>\n",
       "      <td>3.2</td>\n",
       "      <td>146</td>\n",
       "    </tr>\n",
       "    <tr>\n",
       "      <th>2</th>\n",
       "      <td>Huening Kai</td>\n",
       "      <td>19</td>\n",
       "      <td>3.5</td>\n",
       "      <td>147</td>\n",
       "    </tr>\n",
       "  </tbody>\n",
       "</table>\n",
       "</div>"
      ],
      "text/plain": [
       "          Name  Age  IPK  SKS\n",
       "0      Yeonjun   22  3.0  145\n",
       "1      Beomgyu   20  3.2  146\n",
       "2  Huening Kai   19  3.5  147"
      ]
     },
     "execution_count": 63,
     "metadata": {},
     "output_type": "execute_result"
    }
   ],
   "source": [
    "studentDataFrame"
   ]
  },
  {
   "cell_type": "code",
   "execution_count": 64,
   "id": "9d942a87",
   "metadata": {},
   "outputs": [
    {
     "data": {
      "text/html": [
       "<div>\n",
       "<style scoped>\n",
       "    .dataframe tbody tr th:only-of-type {\n",
       "        vertical-align: middle;\n",
       "    }\n",
       "\n",
       "    .dataframe tbody tr th {\n",
       "        vertical-align: top;\n",
       "    }\n",
       "\n",
       "    .dataframe thead th {\n",
       "        text-align: right;\n",
       "    }\n",
       "</style>\n",
       "<table border=\"1\" class=\"dataframe\">\n",
       "  <thead>\n",
       "    <tr style=\"text-align: right;\">\n",
       "      <th></th>\n",
       "      <th>Name</th>\n",
       "      <th>Age</th>\n",
       "      <th>IPK</th>\n",
       "      <th>SKS</th>\n",
       "    </tr>\n",
       "  </thead>\n",
       "  <tbody>\n",
       "    <tr>\n",
       "      <th>YJ</th>\n",
       "      <td>Yeonjun</td>\n",
       "      <td>22</td>\n",
       "      <td>3.0</td>\n",
       "      <td>145</td>\n",
       "    </tr>\n",
       "    <tr>\n",
       "      <th>BG</th>\n",
       "      <td>Beomgyu</td>\n",
       "      <td>20</td>\n",
       "      <td>3.2</td>\n",
       "      <td>146</td>\n",
       "    </tr>\n",
       "    <tr>\n",
       "      <th>HK</th>\n",
       "      <td>Huening Kai</td>\n",
       "      <td>19</td>\n",
       "      <td>3.5</td>\n",
       "      <td>147</td>\n",
       "    </tr>\n",
       "  </tbody>\n",
       "</table>\n",
       "</div>"
      ],
      "text/plain": [
       "           Name  Age  IPK  SKS\n",
       "YJ      Yeonjun   22  3.0  145\n",
       "BG      Beomgyu   20  3.2  146\n",
       "HK  Huening Kai   19  3.5  147"
      ]
     },
     "execution_count": 64,
     "metadata": {},
     "output_type": "execute_result"
    }
   ],
   "source": [
    "studentDataFrame.index = [\"YJ\",\"BG\",\"HK\"]\n",
    "studentDataFrame"
   ]
  },
  {
   "cell_type": "code",
   "execution_count": 65,
   "id": "7119d3dc",
   "metadata": {},
   "outputs": [
    {
     "data": {
      "text/html": [
       "<div>\n",
       "<style scoped>\n",
       "    .dataframe tbody tr th:only-of-type {\n",
       "        vertical-align: middle;\n",
       "    }\n",
       "\n",
       "    .dataframe tbody tr th {\n",
       "        vertical-align: top;\n",
       "    }\n",
       "\n",
       "    .dataframe thead th {\n",
       "        text-align: right;\n",
       "    }\n",
       "</style>\n",
       "<table border=\"1\" class=\"dataframe\">\n",
       "  <thead>\n",
       "    <tr style=\"text-align: right;\">\n",
       "      <th></th>\n",
       "      <th>Name</th>\n",
       "      <th>IPK</th>\n",
       "    </tr>\n",
       "  </thead>\n",
       "  <tbody>\n",
       "    <tr>\n",
       "      <th>YJ</th>\n",
       "      <td>Yeonjun</td>\n",
       "      <td>3.0</td>\n",
       "    </tr>\n",
       "    <tr>\n",
       "      <th>BG</th>\n",
       "      <td>Beomgyu</td>\n",
       "      <td>3.2</td>\n",
       "    </tr>\n",
       "    <tr>\n",
       "      <th>HK</th>\n",
       "      <td>Huening Kai</td>\n",
       "      <td>3.5</td>\n",
       "    </tr>\n",
       "  </tbody>\n",
       "</table>\n",
       "</div>"
      ],
      "text/plain": [
       "           Name  IPK\n",
       "YJ      Yeonjun  3.0\n",
       "BG      Beomgyu  3.2\n",
       "HK  Huening Kai  3.5"
      ]
     },
     "execution_count": 65,
     "metadata": {},
     "output_type": "execute_result"
    }
   ],
   "source": [
    "studentDataFrame.filter(items=[\"Name\",\"IPK\"])"
   ]
  },
  {
   "cell_type": "code",
   "execution_count": 66,
   "id": "cd25d735",
   "metadata": {},
   "outputs": [],
   "source": [
    "studentDataFrame[\"Kredit\"] = studentDataFrame[\"SKS\"]*studentDataFrame[\"IPK\"]"
   ]
  },
  {
   "cell_type": "code",
   "execution_count": 68,
   "id": "2c1028ea",
   "metadata": {},
   "outputs": [
    {
     "data": {
      "text/html": [
       "<div>\n",
       "<style scoped>\n",
       "    .dataframe tbody tr th:only-of-type {\n",
       "        vertical-align: middle;\n",
       "    }\n",
       "\n",
       "    .dataframe tbody tr th {\n",
       "        vertical-align: top;\n",
       "    }\n",
       "\n",
       "    .dataframe thead th {\n",
       "        text-align: right;\n",
       "    }\n",
       "</style>\n",
       "<table border=\"1\" class=\"dataframe\">\n",
       "  <thead>\n",
       "    <tr style=\"text-align: right;\">\n",
       "      <th></th>\n",
       "      <th>Name</th>\n",
       "      <th>Age</th>\n",
       "      <th>IPK</th>\n",
       "      <th>SKS</th>\n",
       "      <th>Kredit</th>\n",
       "    </tr>\n",
       "  </thead>\n",
       "  <tbody>\n",
       "    <tr>\n",
       "      <th>YJ</th>\n",
       "      <td>Yeonjun</td>\n",
       "      <td>22</td>\n",
       "      <td>3.0</td>\n",
       "      <td>145</td>\n",
       "      <td>435.0</td>\n",
       "    </tr>\n",
       "    <tr>\n",
       "      <th>BG</th>\n",
       "      <td>Beomgyu</td>\n",
       "      <td>20</td>\n",
       "      <td>3.2</td>\n",
       "      <td>146</td>\n",
       "      <td>467.2</td>\n",
       "    </tr>\n",
       "    <tr>\n",
       "      <th>HK</th>\n",
       "      <td>Huening Kai</td>\n",
       "      <td>19</td>\n",
       "      <td>3.5</td>\n",
       "      <td>147</td>\n",
       "      <td>514.5</td>\n",
       "    </tr>\n",
       "  </tbody>\n",
       "</table>\n",
       "</div>"
      ],
      "text/plain": [
       "           Name  Age  IPK  SKS  Kredit\n",
       "YJ      Yeonjun   22  3.0  145   435.0\n",
       "BG      Beomgyu   20  3.2  146   467.2\n",
       "HK  Huening Kai   19  3.5  147   514.5"
      ]
     },
     "execution_count": 68,
     "metadata": {},
     "output_type": "execute_result"
    }
   ],
   "source": [
    "studentDataFrame"
   ]
  },
  {
   "cell_type": "code",
   "execution_count": 69,
   "id": "164ae104",
   "metadata": {},
   "outputs": [
    {
     "data": {
      "text/html": [
       "<div>\n",
       "<style scoped>\n",
       "    .dataframe tbody tr th:only-of-type {\n",
       "        vertical-align: middle;\n",
       "    }\n",
       "\n",
       "    .dataframe tbody tr th {\n",
       "        vertical-align: top;\n",
       "    }\n",
       "\n",
       "    .dataframe thead th {\n",
       "        text-align: right;\n",
       "    }\n",
       "</style>\n",
       "<table border=\"1\" class=\"dataframe\">\n",
       "  <thead>\n",
       "    <tr style=\"text-align: right;\">\n",
       "      <th></th>\n",
       "      <th>Name</th>\n",
       "      <th>Age</th>\n",
       "      <th>IPK</th>\n",
       "      <th>SKS</th>\n",
       "      <th>Kredit</th>\n",
       "    </tr>\n",
       "  </thead>\n",
       "  <tbody>\n",
       "    <tr>\n",
       "      <th>BG</th>\n",
       "      <td>Beomgyu</td>\n",
       "      <td>20</td>\n",
       "      <td>3.2</td>\n",
       "      <td>146</td>\n",
       "      <td>467.2</td>\n",
       "    </tr>\n",
       "    <tr>\n",
       "      <th>HK</th>\n",
       "      <td>Huening Kai</td>\n",
       "      <td>19</td>\n",
       "      <td>3.5</td>\n",
       "      <td>147</td>\n",
       "      <td>514.5</td>\n",
       "    </tr>\n",
       "  </tbody>\n",
       "</table>\n",
       "</div>"
      ],
      "text/plain": [
       "           Name  Age  IPK  SKS  Kredit\n",
       "BG      Beomgyu   20  3.2  146   467.2\n",
       "HK  Huening Kai   19  3.5  147   514.5"
      ]
     },
     "execution_count": 69,
     "metadata": {},
     "output_type": "execute_result"
    }
   ],
   "source": [
    "studentDataFrame[studentDataFrame.Kredit > 450]"
   ]
  },
  {
   "cell_type": "code",
   "execution_count": 72,
   "id": "a70ee92f",
   "metadata": {},
   "outputs": [
    {
     "data": {
      "text/html": [
       "<div>\n",
       "<style scoped>\n",
       "    .dataframe tbody tr th:only-of-type {\n",
       "        vertical-align: middle;\n",
       "    }\n",
       "\n",
       "    .dataframe tbody tr th {\n",
       "        vertical-align: top;\n",
       "    }\n",
       "\n",
       "    .dataframe thead th {\n",
       "        text-align: right;\n",
       "    }\n",
       "</style>\n",
       "<table border=\"1\" class=\"dataframe\">\n",
       "  <thead>\n",
       "    <tr style=\"text-align: right;\">\n",
       "      <th></th>\n",
       "      <th>Name</th>\n",
       "      <th>Age</th>\n",
       "      <th>IPK</th>\n",
       "      <th>SKS</th>\n",
       "      <th>Total</th>\n",
       "    </tr>\n",
       "  </thead>\n",
       "  <tbody>\n",
       "    <tr>\n",
       "      <th>YJ</th>\n",
       "      <td>Yeonjun</td>\n",
       "      <td>22</td>\n",
       "      <td>3.0</td>\n",
       "      <td>145</td>\n",
       "      <td>435.0</td>\n",
       "    </tr>\n",
       "    <tr>\n",
       "      <th>BG</th>\n",
       "      <td>Beomgyu</td>\n",
       "      <td>20</td>\n",
       "      <td>3.2</td>\n",
       "      <td>146</td>\n",
       "      <td>467.2</td>\n",
       "    </tr>\n",
       "    <tr>\n",
       "      <th>HK</th>\n",
       "      <td>Huening Kai</td>\n",
       "      <td>19</td>\n",
       "      <td>3.5</td>\n",
       "      <td>147</td>\n",
       "      <td>514.5</td>\n",
       "    </tr>\n",
       "  </tbody>\n",
       "</table>\n",
       "</div>"
      ],
      "text/plain": [
       "           Name  Age  IPK  SKS  Total\n",
       "YJ      Yeonjun   22  3.0  145  435.0\n",
       "BG      Beomgyu   20  3.2  146  467.2\n",
       "HK  Huening Kai   19  3.5  147  514.5"
      ]
     },
     "execution_count": 72,
     "metadata": {},
     "output_type": "execute_result"
    }
   ],
   "source": [
    "studentDataFrame.rename(columns={\"Kredit\":\"Total\"})"
   ]
  },
  {
   "cell_type": "code",
   "execution_count": 96,
   "id": "7eb28f99",
   "metadata": {},
   "outputs": [],
   "source": [
    "studentDF_new = studentDataFrame.append({\"Name\":\"Yeji\",\n",
    "                        \"Age\":21,\n",
    "                        \"IPK\":3.3,\n",
    "                        \"SKS\":144}, ignore_index=True)"
   ]
  },
  {
   "cell_type": "code",
   "execution_count": 97,
   "id": "74d4c2de",
   "metadata": {},
   "outputs": [
    {
     "data": {
      "text/html": [
       "<div>\n",
       "<style scoped>\n",
       "    .dataframe tbody tr th:only-of-type {\n",
       "        vertical-align: middle;\n",
       "    }\n",
       "\n",
       "    .dataframe tbody tr th {\n",
       "        vertical-align: top;\n",
       "    }\n",
       "\n",
       "    .dataframe thead th {\n",
       "        text-align: right;\n",
       "    }\n",
       "</style>\n",
       "<table border=\"1\" class=\"dataframe\">\n",
       "  <thead>\n",
       "    <tr style=\"text-align: right;\">\n",
       "      <th></th>\n",
       "      <th>Name</th>\n",
       "      <th>Age</th>\n",
       "      <th>IPK</th>\n",
       "      <th>SKS</th>\n",
       "      <th>Kredit</th>\n",
       "    </tr>\n",
       "  </thead>\n",
       "  <tbody>\n",
       "    <tr>\n",
       "      <th>0</th>\n",
       "      <td>Yeonjun</td>\n",
       "      <td>22</td>\n",
       "      <td>3.0</td>\n",
       "      <td>145</td>\n",
       "      <td>435.0</td>\n",
       "    </tr>\n",
       "    <tr>\n",
       "      <th>3</th>\n",
       "      <td>Yeji</td>\n",
       "      <td>21</td>\n",
       "      <td>3.3</td>\n",
       "      <td>144</td>\n",
       "      <td>NaN</td>\n",
       "    </tr>\n",
       "  </tbody>\n",
       "</table>\n",
       "</div>"
      ],
      "text/plain": [
       "      Name  Age  IPK  SKS  Kredit\n",
       "0  Yeonjun   22  3.0  145   435.0\n",
       "3     Yeji   21  3.3  144     NaN"
      ]
     },
     "execution_count": 97,
     "metadata": {},
     "output_type": "execute_result"
    }
   ],
   "source": [
    "studentDF_new[studentDF_new.Name.str.contains(\"Y\")]"
   ]
  },
  {
   "cell_type": "code",
   "execution_count": 98,
   "id": "fa890080",
   "metadata": {},
   "outputs": [],
   "source": [
    "movieDB = pd.read_csv('http://bit.ly/imdbratings')"
   ]
  },
  {
   "cell_type": "code",
   "execution_count": 99,
   "id": "16d6e68e",
   "metadata": {},
   "outputs": [
    {
     "data": {
      "text/html": [
       "<div>\n",
       "<style scoped>\n",
       "    .dataframe tbody tr th:only-of-type {\n",
       "        vertical-align: middle;\n",
       "    }\n",
       "\n",
       "    .dataframe tbody tr th {\n",
       "        vertical-align: top;\n",
       "    }\n",
       "\n",
       "    .dataframe thead th {\n",
       "        text-align: right;\n",
       "    }\n",
       "</style>\n",
       "<table border=\"1\" class=\"dataframe\">\n",
       "  <thead>\n",
       "    <tr style=\"text-align: right;\">\n",
       "      <th></th>\n",
       "      <th>star_rating</th>\n",
       "      <th>title</th>\n",
       "      <th>content_rating</th>\n",
       "      <th>genre</th>\n",
       "      <th>duration</th>\n",
       "      <th>actors_list</th>\n",
       "    </tr>\n",
       "  </thead>\n",
       "  <tbody>\n",
       "    <tr>\n",
       "      <th>0</th>\n",
       "      <td>9.3</td>\n",
       "      <td>The Shawshank Redemption</td>\n",
       "      <td>R</td>\n",
       "      <td>Crime</td>\n",
       "      <td>142</td>\n",
       "      <td>[u'Tim Robbins', u'Morgan Freeman', u'Bob Gunt...</td>\n",
       "    </tr>\n",
       "    <tr>\n",
       "      <th>1</th>\n",
       "      <td>9.2</td>\n",
       "      <td>The Godfather</td>\n",
       "      <td>R</td>\n",
       "      <td>Crime</td>\n",
       "      <td>175</td>\n",
       "      <td>[u'Marlon Brando', u'Al Pacino', u'James Caan']</td>\n",
       "    </tr>\n",
       "    <tr>\n",
       "      <th>2</th>\n",
       "      <td>9.1</td>\n",
       "      <td>The Godfather: Part II</td>\n",
       "      <td>R</td>\n",
       "      <td>Crime</td>\n",
       "      <td>200</td>\n",
       "      <td>[u'Al Pacino', u'Robert De Niro', u'Robert Duv...</td>\n",
       "    </tr>\n",
       "    <tr>\n",
       "      <th>3</th>\n",
       "      <td>9.0</td>\n",
       "      <td>The Dark Knight</td>\n",
       "      <td>PG-13</td>\n",
       "      <td>Action</td>\n",
       "      <td>152</td>\n",
       "      <td>[u'Christian Bale', u'Heath Ledger', u'Aaron E...</td>\n",
       "    </tr>\n",
       "    <tr>\n",
       "      <th>4</th>\n",
       "      <td>8.9</td>\n",
       "      <td>Pulp Fiction</td>\n",
       "      <td>R</td>\n",
       "      <td>Crime</td>\n",
       "      <td>154</td>\n",
       "      <td>[u'John Travolta', u'Uma Thurman', u'Samuel L....</td>\n",
       "    </tr>\n",
       "  </tbody>\n",
       "</table>\n",
       "</div>"
      ],
      "text/plain": [
       "   star_rating                     title content_rating   genre  duration  \\\n",
       "0          9.3  The Shawshank Redemption              R   Crime       142   \n",
       "1          9.2             The Godfather              R   Crime       175   \n",
       "2          9.1    The Godfather: Part II              R   Crime       200   \n",
       "3          9.0           The Dark Knight          PG-13  Action       152   \n",
       "4          8.9              Pulp Fiction              R   Crime       154   \n",
       "\n",
       "                                         actors_list  \n",
       "0  [u'Tim Robbins', u'Morgan Freeman', u'Bob Gunt...  \n",
       "1    [u'Marlon Brando', u'Al Pacino', u'James Caan']  \n",
       "2  [u'Al Pacino', u'Robert De Niro', u'Robert Duv...  \n",
       "3  [u'Christian Bale', u'Heath Ledger', u'Aaron E...  \n",
       "4  [u'John Travolta', u'Uma Thurman', u'Samuel L....  "
      ]
     },
     "execution_count": 99,
     "metadata": {},
     "output_type": "execute_result"
    }
   ],
   "source": [
    "movieDB.head()"
   ]
  },
  {
   "cell_type": "code",
   "execution_count": 100,
   "id": "2b92fa11",
   "metadata": {},
   "outputs": [
    {
     "data": {
      "text/plain": [
       "(979, 6)"
      ]
     },
     "execution_count": 100,
     "metadata": {},
     "output_type": "execute_result"
    }
   ],
   "source": [
    "movieDB.shape"
   ]
  },
  {
   "cell_type": "code",
   "execution_count": 122,
   "id": "690dd53c",
   "metadata": {},
   "outputs": [
    {
     "data": {
      "text/html": [
       "<div>\n",
       "<style scoped>\n",
       "    .dataframe tbody tr th:only-of-type {\n",
       "        vertical-align: middle;\n",
       "    }\n",
       "\n",
       "    .dataframe tbody tr th {\n",
       "        vertical-align: top;\n",
       "    }\n",
       "\n",
       "    .dataframe thead th {\n",
       "        text-align: right;\n",
       "    }\n",
       "</style>\n",
       "<table border=\"1\" class=\"dataframe\">\n",
       "  <thead>\n",
       "    <tr style=\"text-align: right;\">\n",
       "      <th></th>\n",
       "      <th>star_rating</th>\n",
       "      <th>title</th>\n",
       "      <th>content_rating</th>\n",
       "      <th>genre</th>\n",
       "      <th>duration</th>\n",
       "      <th>actors_list</th>\n",
       "    </tr>\n",
       "  </thead>\n",
       "  <tbody>\n",
       "    <tr>\n",
       "      <th>5</th>\n",
       "      <td>8.9</td>\n",
       "      <td>12 Angry Men</td>\n",
       "      <td>NOT RATED</td>\n",
       "      <td>Drama</td>\n",
       "      <td>96</td>\n",
       "      <td>[u'Henry Fonda', u'Lee J. Cobb', u'Martin Bals...</td>\n",
       "    </tr>\n",
       "    <tr>\n",
       "      <th>35</th>\n",
       "      <td>8.6</td>\n",
       "      <td>Modern Times</td>\n",
       "      <td>G</td>\n",
       "      <td>Comedy</td>\n",
       "      <td>87</td>\n",
       "      <td>[u'Charles Chaplin', u'Paulette Goddard', u'He...</td>\n",
       "    </tr>\n",
       "    <tr>\n",
       "      <th>29</th>\n",
       "      <td>8.6</td>\n",
       "      <td>City Lights</td>\n",
       "      <td>PASSED</td>\n",
       "      <td>Comedy</td>\n",
       "      <td>87</td>\n",
       "      <td>[u'Charles Chaplin', u'Virginia Cherrill', u'F...</td>\n",
       "    </tr>\n",
       "    <tr>\n",
       "      <th>48</th>\n",
       "      <td>8.5</td>\n",
       "      <td>Dr. Strangelove or: How I Learned to Stop Worr...</td>\n",
       "      <td>PG</td>\n",
       "      <td>Comedy</td>\n",
       "      <td>95</td>\n",
       "      <td>[u'Peter Sellers', u'George C. Scott', u'Sterl...</td>\n",
       "    </tr>\n",
       "    <tr>\n",
       "      <th>55</th>\n",
       "      <td>8.5</td>\n",
       "      <td>The Lion King</td>\n",
       "      <td>G</td>\n",
       "      <td>Animation</td>\n",
       "      <td>89</td>\n",
       "      <td>[u'Matthew Broderick', u'Jeremy Irons', u'Jame...</td>\n",
       "    </tr>\n",
       "    <tr>\n",
       "      <th>...</th>\n",
       "      <td>...</td>\n",
       "      <td>...</td>\n",
       "      <td>...</td>\n",
       "      <td>...</td>\n",
       "      <td>...</td>\n",
       "      <td>...</td>\n",
       "    </tr>\n",
       "    <tr>\n",
       "      <th>943</th>\n",
       "      <td>7.4</td>\n",
       "      <td>The Bucket List</td>\n",
       "      <td>PG-13</td>\n",
       "      <td>Adventure</td>\n",
       "      <td>97</td>\n",
       "      <td>[u'Jack Nicholson', u'Morgan Freeman', u'Sean ...</td>\n",
       "    </tr>\n",
       "    <tr>\n",
       "      <th>942</th>\n",
       "      <td>7.4</td>\n",
       "      <td>Raising Arizona</td>\n",
       "      <td>PG-13</td>\n",
       "      <td>Comedy</td>\n",
       "      <td>94</td>\n",
       "      <td>[u'Nicolas Cage', u'Holly Hunter', u'Trey Wils...</td>\n",
       "    </tr>\n",
       "    <tr>\n",
       "      <th>939</th>\n",
       "      <td>7.4</td>\n",
       "      <td>Predestination</td>\n",
       "      <td>R</td>\n",
       "      <td>Drama</td>\n",
       "      <td>97</td>\n",
       "      <td>[u'Ethan Hawke', u'Sarah Snook', u'Noah Taylor']</td>\n",
       "    </tr>\n",
       "    <tr>\n",
       "      <th>933</th>\n",
       "      <td>7.4</td>\n",
       "      <td>Beetlejuice</td>\n",
       "      <td>PG</td>\n",
       "      <td>Comedy</td>\n",
       "      <td>92</td>\n",
       "      <td>[u'Alec Baldwin', u'Geena Davis', u'Michael Ke...</td>\n",
       "    </tr>\n",
       "    <tr>\n",
       "      <th>971</th>\n",
       "      <td>7.4</td>\n",
       "      <td>Death at a Funeral</td>\n",
       "      <td>R</td>\n",
       "      <td>Comedy</td>\n",
       "      <td>90</td>\n",
       "      <td>[u'Matthew Macfadyen', u'Peter Dinklage', u'Ew...</td>\n",
       "    </tr>\n",
       "  </tbody>\n",
       "</table>\n",
       "<p>210 rows × 6 columns</p>\n",
       "</div>"
      ],
      "text/plain": [
       "     star_rating                                              title  \\\n",
       "5            8.9                                       12 Angry Men   \n",
       "35           8.6                                       Modern Times   \n",
       "29           8.6                                        City Lights   \n",
       "48           8.5  Dr. Strangelove or: How I Learned to Stop Worr...   \n",
       "55           8.5                                      The Lion King   \n",
       "..           ...                                                ...   \n",
       "943          7.4                                    The Bucket List   \n",
       "942          7.4                                    Raising Arizona   \n",
       "939          7.4                                     Predestination   \n",
       "933          7.4                                        Beetlejuice   \n",
       "971          7.4                                 Death at a Funeral   \n",
       "\n",
       "    content_rating      genre  duration  \\\n",
       "5        NOT RATED      Drama        96   \n",
       "35               G     Comedy        87   \n",
       "29          PASSED     Comedy        87   \n",
       "48              PG     Comedy        95   \n",
       "55               G  Animation        89   \n",
       "..             ...        ...       ...   \n",
       "943          PG-13  Adventure        97   \n",
       "942          PG-13     Comedy        94   \n",
       "939              R      Drama        97   \n",
       "933             PG     Comedy        92   \n",
       "971              R     Comedy        90   \n",
       "\n",
       "                                           actors_list  \n",
       "5    [u'Henry Fonda', u'Lee J. Cobb', u'Martin Bals...  \n",
       "35   [u'Charles Chaplin', u'Paulette Goddard', u'He...  \n",
       "29   [u'Charles Chaplin', u'Virginia Cherrill', u'F...  \n",
       "48   [u'Peter Sellers', u'George C. Scott', u'Sterl...  \n",
       "55   [u'Matthew Broderick', u'Jeremy Irons', u'Jame...  \n",
       "..                                                 ...  \n",
       "943  [u'Jack Nicholson', u'Morgan Freeman', u'Sean ...  \n",
       "942  [u'Nicolas Cage', u'Holly Hunter', u'Trey Wils...  \n",
       "939   [u'Ethan Hawke', u'Sarah Snook', u'Noah Taylor']  \n",
       "933  [u'Alec Baldwin', u'Geena Davis', u'Michael Ke...  \n",
       "971  [u'Matthew Macfadyen', u'Peter Dinklage', u'Ew...  \n",
       "\n",
       "[210 rows x 6 columns]"
      ]
     },
     "execution_count": 122,
     "metadata": {},
     "output_type": "execute_result"
    }
   ],
   "source": [
    "movieDB = pd.read_csv('http://bit.ly/imdbratings')\n",
    "movieDB2 = movieDB[movieDB.duration <= 100]\n",
    "movieDB2[movieDB2.star_rating > 7]\n",
    "filtered_movieDB = movieDB2.sort_values(by = \"star_rating\", ascending=False)\n",
    "filtered_movieDB"
   ]
  },
  {
   "cell_type": "code",
   "execution_count": 123,
   "id": "a041d423",
   "metadata": {},
   "outputs": [
    {
     "data": {
      "text/html": [
       "<div>\n",
       "<style scoped>\n",
       "    .dataframe tbody tr th:only-of-type {\n",
       "        vertical-align: middle;\n",
       "    }\n",
       "\n",
       "    .dataframe tbody tr th {\n",
       "        vertical-align: top;\n",
       "    }\n",
       "\n",
       "    .dataframe thead th {\n",
       "        text-align: right;\n",
       "    }\n",
       "</style>\n",
       "<table border=\"1\" class=\"dataframe\">\n",
       "  <thead>\n",
       "    <tr style=\"text-align: right;\">\n",
       "      <th></th>\n",
       "      <th>star_rating</th>\n",
       "      <th>title</th>\n",
       "      <th>content_rating</th>\n",
       "      <th>genre</th>\n",
       "      <th>duration</th>\n",
       "      <th>actors_list</th>\n",
       "    </tr>\n",
       "  </thead>\n",
       "  <tbody>\n",
       "    <tr>\n",
       "      <th>5</th>\n",
       "      <td>8.9</td>\n",
       "      <td>12 Angry Men</td>\n",
       "      <td>NOT RATED</td>\n",
       "      <td>Drama</td>\n",
       "      <td>96</td>\n",
       "      <td>[u'Henry Fonda', u'Lee J. Cobb', u'Martin Bals...</td>\n",
       "    </tr>\n",
       "    <tr>\n",
       "      <th>29</th>\n",
       "      <td>8.6</td>\n",
       "      <td>City Lights</td>\n",
       "      <td>PASSED</td>\n",
       "      <td>Comedy</td>\n",
       "      <td>87</td>\n",
       "      <td>[u'Charles Chaplin', u'Virginia Cherrill', u'F...</td>\n",
       "    </tr>\n",
       "    <tr>\n",
       "      <th>35</th>\n",
       "      <td>8.6</td>\n",
       "      <td>Modern Times</td>\n",
       "      <td>G</td>\n",
       "      <td>Comedy</td>\n",
       "      <td>87</td>\n",
       "      <td>[u'Charles Chaplin', u'Paulette Goddard', u'He...</td>\n",
       "    </tr>\n",
       "    <tr>\n",
       "      <th>48</th>\n",
       "      <td>8.5</td>\n",
       "      <td>Dr. Strangelove or: How I Learned to Stop Worr...</td>\n",
       "      <td>PG</td>\n",
       "      <td>Comedy</td>\n",
       "      <td>95</td>\n",
       "      <td>[u'Peter Sellers', u'George C. Scott', u'Sterl...</td>\n",
       "    </tr>\n",
       "    <tr>\n",
       "      <th>55</th>\n",
       "      <td>8.5</td>\n",
       "      <td>The Lion King</td>\n",
       "      <td>G</td>\n",
       "      <td>Animation</td>\n",
       "      <td>89</td>\n",
       "      <td>[u'Matthew Broderick', u'Jeremy Irons', u'Jame...</td>\n",
       "    </tr>\n",
       "    <tr>\n",
       "      <th>...</th>\n",
       "      <td>...</td>\n",
       "      <td>...</td>\n",
       "      <td>...</td>\n",
       "      <td>...</td>\n",
       "      <td>...</td>\n",
       "      <td>...</td>\n",
       "    </tr>\n",
       "    <tr>\n",
       "      <th>957</th>\n",
       "      <td>7.4</td>\n",
       "      <td>National Lampoon's Vacation</td>\n",
       "      <td>R</td>\n",
       "      <td>Comedy</td>\n",
       "      <td>98</td>\n",
       "      <td>[u'Chevy Chase', u\"Beverly D'Angelo\", u'Imogen...</td>\n",
       "    </tr>\n",
       "    <tr>\n",
       "      <th>959</th>\n",
       "      <td>7.4</td>\n",
       "      <td>Deconstructing Harry</td>\n",
       "      <td>R</td>\n",
       "      <td>Comedy</td>\n",
       "      <td>96</td>\n",
       "      <td>[u'Woody Allen', u'Judy Davis', u'Julia Louis-...</td>\n",
       "    </tr>\n",
       "    <tr>\n",
       "      <th>962</th>\n",
       "      <td>7.4</td>\n",
       "      <td>Driving Miss Daisy</td>\n",
       "      <td>PG</td>\n",
       "      <td>Comedy</td>\n",
       "      <td>99</td>\n",
       "      <td>[u'Morgan Freeman', u'Jessica Tandy', u'Dan Ay...</td>\n",
       "    </tr>\n",
       "    <tr>\n",
       "      <th>966</th>\n",
       "      <td>7.4</td>\n",
       "      <td>The Simpsons Movie</td>\n",
       "      <td>PG-13</td>\n",
       "      <td>Animation</td>\n",
       "      <td>87</td>\n",
       "      <td>[u'Dan Castellaneta', u'Julie Kavner', u'Nancy...</td>\n",
       "    </tr>\n",
       "    <tr>\n",
       "      <th>971</th>\n",
       "      <td>7.4</td>\n",
       "      <td>Death at a Funeral</td>\n",
       "      <td>R</td>\n",
       "      <td>Comedy</td>\n",
       "      <td>90</td>\n",
       "      <td>[u'Matthew Macfadyen', u'Peter Dinklage', u'Ew...</td>\n",
       "    </tr>\n",
       "  </tbody>\n",
       "</table>\n",
       "<p>210 rows × 6 columns</p>\n",
       "</div>"
      ],
      "text/plain": [
       "     star_rating                                              title  \\\n",
       "5            8.9                                       12 Angry Men   \n",
       "29           8.6                                        City Lights   \n",
       "35           8.6                                       Modern Times   \n",
       "48           8.5  Dr. Strangelove or: How I Learned to Stop Worr...   \n",
       "55           8.5                                      The Lion King   \n",
       "..           ...                                                ...   \n",
       "957          7.4                        National Lampoon's Vacation   \n",
       "959          7.4                               Deconstructing Harry   \n",
       "962          7.4                                 Driving Miss Daisy   \n",
       "966          7.4                                 The Simpsons Movie   \n",
       "971          7.4                                 Death at a Funeral   \n",
       "\n",
       "    content_rating      genre  duration  \\\n",
       "5        NOT RATED      Drama        96   \n",
       "29          PASSED     Comedy        87   \n",
       "35               G     Comedy        87   \n",
       "48              PG     Comedy        95   \n",
       "55               G  Animation        89   \n",
       "..             ...        ...       ...   \n",
       "957              R     Comedy        98   \n",
       "959              R     Comedy        96   \n",
       "962             PG     Comedy        99   \n",
       "966          PG-13  Animation        87   \n",
       "971              R     Comedy        90   \n",
       "\n",
       "                                           actors_list  \n",
       "5    [u'Henry Fonda', u'Lee J. Cobb', u'Martin Bals...  \n",
       "29   [u'Charles Chaplin', u'Virginia Cherrill', u'F...  \n",
       "35   [u'Charles Chaplin', u'Paulette Goddard', u'He...  \n",
       "48   [u'Peter Sellers', u'George C. Scott', u'Sterl...  \n",
       "55   [u'Matthew Broderick', u'Jeremy Irons', u'Jame...  \n",
       "..                                                 ...  \n",
       "957  [u'Chevy Chase', u\"Beverly D'Angelo\", u'Imogen...  \n",
       "959  [u'Woody Allen', u'Judy Davis', u'Julia Louis-...  \n",
       "962  [u'Morgan Freeman', u'Jessica Tandy', u'Dan Ay...  \n",
       "966  [u'Dan Castellaneta', u'Julie Kavner', u'Nancy...  \n",
       "971  [u'Matthew Macfadyen', u'Peter Dinklage', u'Ew...  \n",
       "\n",
       "[210 rows x 6 columns]"
      ]
     },
     "execution_count": 123,
     "metadata": {},
     "output_type": "execute_result"
    }
   ],
   "source": [
    "movieDB[(movieDB['star_rating']>7) & (movieDB['duration']<=100)]"
   ]
  },
  {
   "cell_type": "code",
   "execution_count": 126,
   "id": "35869594",
   "metadata": {},
   "outputs": [
    {
     "data": {
      "text/plain": [
       "genre\n",
       "Action       136\n",
       "Adventure     75\n",
       "Animation     62\n",
       "Biography     77\n",
       "Comedy       156\n",
       "Crime        124\n",
       "Drama        278\n",
       "Family         2\n",
       "Fantasy        1\n",
       "Film-Noir      3\n",
       "History        1\n",
       "Horror        29\n",
       "Mystery       16\n",
       "Sci-Fi         5\n",
       "Thriller       5\n",
       "Western        9\n",
       "Name: title, dtype: int64"
      ]
     },
     "execution_count": 126,
     "metadata": {},
     "output_type": "execute_result"
    }
   ],
   "source": [
    "groupedMovie = movieDB.groupby(\"genre\")[\"title\"].count()\n",
    "groupedMovie"
   ]
  },
  {
   "cell_type": "code",
   "execution_count": 127,
   "id": "feec3188",
   "metadata": {},
   "outputs": [
    {
     "data": {
      "text/plain": [
       "Index(['Action', 'Adventure', 'Animation', 'Biography', 'Comedy', 'Crime',\n",
       "       'Drama', 'Family', 'Fantasy', 'Film-Noir', 'History', 'Horror',\n",
       "       'Mystery', 'Sci-Fi', 'Thriller', 'Western'],\n",
       "      dtype='object', name='genre')"
      ]
     },
     "execution_count": 127,
     "metadata": {},
     "output_type": "execute_result"
    }
   ],
   "source": [
    "groupedMovie.keys()"
   ]
  },
  {
   "cell_type": "code",
   "execution_count": 130,
   "id": "c505e0fc",
   "metadata": {},
   "outputs": [
    {
     "data": {
      "text/plain": [
       "array([136,  75,  62,  77, 156, 124, 278,   2,   1,   3,   1,  29,  16,\n",
       "         5,   5,   9], dtype=int64)"
      ]
     },
     "execution_count": 130,
     "metadata": {},
     "output_type": "execute_result"
    }
   ],
   "source": [
    "groupedMovie.values"
   ]
  },
  {
   "cell_type": "code",
   "execution_count": 137,
   "id": "f7a39184",
   "metadata": {},
   "outputs": [
    {
     "data": {
      "text/plain": [
       "136"
      ]
     },
     "execution_count": 137,
     "metadata": {},
     "output_type": "execute_result"
    }
   ],
   "source": [
    "groupedMovie.loc[\"Action\"]"
   ]
  }
 ],
 "metadata": {
  "kernelspec": {
   "display_name": "Python 3",
   "language": "python",
   "name": "python3"
  },
  "language_info": {
   "codemirror_mode": {
    "name": "ipython",
    "version": 3
   },
   "file_extension": ".py",
   "mimetype": "text/x-python",
   "name": "python",
   "nbconvert_exporter": "python",
   "pygments_lexer": "ipython3",
   "version": "3.8.8"
  },
  "toc": {
   "base_numbering": 1,
   "nav_menu": {},
   "number_sections": false,
   "sideBar": true,
   "skip_h1_title": false,
   "title_cell": "Table of Contents",
   "title_sidebar": "Contents",
   "toc_cell": false,
   "toc_position": {},
   "toc_section_display": true,
   "toc_window_display": false
  },
  "varInspector": {
   "cols": {
    "lenName": 16,
    "lenType": 16,
    "lenVar": 40
   },
   "kernels_config": {
    "python": {
     "delete_cmd_postfix": "",
     "delete_cmd_prefix": "del ",
     "library": "var_list.py",
     "varRefreshCmd": "print(var_dic_list())"
    },
    "r": {
     "delete_cmd_postfix": ") ",
     "delete_cmd_prefix": "rm(",
     "library": "var_list.r",
     "varRefreshCmd": "cat(var_dic_list()) "
    }
   },
   "types_to_exclude": [
    "module",
    "function",
    "builtin_function_or_method",
    "instance",
    "_Feature"
   ],
   "window_display": false
  }
 },
 "nbformat": 4,
 "nbformat_minor": 5
}
