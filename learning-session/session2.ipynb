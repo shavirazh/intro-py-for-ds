{
 "cells": [
  {
   "cell_type": "code",
   "execution_count": 36,
   "id": "14a85815",
   "metadata": {},
   "outputs": [
    {
     "name": "stdout",
     "output_type": "stream",
     "text": [
      "hello condition\n"
     ]
    }
   ],
   "source": [
    "print('hello condition')"
   ]
  },
  {
   "cell_type": "code",
   "execution_count": 5,
   "id": "4bded8a9",
   "metadata": {},
   "outputs": [
    {
     "name": "stdout",
     "output_type": "stream",
     "text": [
      "False\n",
      "False\n",
      "True\n",
      "True\n"
     ]
    }
   ],
   "source": [
    "#condition : if, then, else. jika 'true' dia akan ngelakuin apa, jika 'false' dia akan ngelakuin apa\n",
    "#operation conditions\n",
    "# 1. equals (a==b)\n",
    "# 2. more than (a > b), more than equals (a >= b)\n",
    "# 3. less than (a < b), less than equals ( a <= b)\n",
    "\n",
    "#example\n",
    "a = 1\n",
    "b = 2\n",
    "print(a==b)\n",
    "print(a>=b)\n",
    "print(a<=b)\n",
    "print(a<b)"
   ]
  },
  {
   "cell_type": "code",
   "execution_count": 9,
   "id": "f44cc2c2",
   "metadata": {},
   "outputs": [
    {
     "name": "stdout",
     "output_type": "stream",
     "text": [
      "hello word\n"
     ]
    }
   ],
   "source": [
    "print('hello word')"
   ]
  },
  {
   "cell_type": "code",
   "execution_count": 29,
   "id": "bb1d51f1",
   "metadata": {},
   "outputs": [
    {
     "name": "stdout",
     "output_type": "stream",
     "text": [
      "Please input first number:20\n",
      "Please input second number:30\n",
      "Not equals\n"
     ]
    }
   ],
   "source": [
    "var1=var2=0\n",
    "var1 = int(input('Please input first number:'))\n",
    "var2 = int(input('Please input second number:'))\n",
    "if var1 == var2:\n",
    "    print('Equals')\n",
    "else:\n",
    "    print('Not equals')"
   ]
  },
  {
   "cell_type": "markdown",
   "id": "3718357f",
   "metadata": {},
   "source": [
    "nilai = 0\n",
    "nilai = int(input('Nilai:'))\n",
    "if nilai > 90:\n",
    "    print('A')\n",
    "elif nilai <= 90 and nilai > 70:\n",
    "    print('B')\n",
    "elif nilai <= 70 and nilai > 50:\n",
    "    print('C')\n",
    "elif nilai <= 50 and nilai > 30:\n",
    "    print('D')\n",
    "else:\n",
    "    print('E')"
   ]
  },
  {
   "cell_type": "code",
   "execution_count": 2,
   "id": "0b00cc58",
   "metadata": {},
   "outputs": [
    {
     "name": "stdout",
     "output_type": "stream",
     "text": [
      "Input your age:49\n",
      "You are an adult\n",
      "Let's drink\n"
     ]
    }
   ],
   "source": [
    "myage = 0\n",
    "adultTreshold = 18\n",
    "\n",
    "myage = int(input('Input your age:'))\n",
    "\n",
    "if myage >= adultTreshold:\n",
    "    print(\"You are an adult\\nLet's drink\")\n",
    "else:\n",
    "    yourage = adultTreshold - myage\n",
    "    print(\"You are not adult enough wait {} more years\".format(yourage))"
   ]
  },
  {
   "cell_type": "code",
   "execution_count": 34,
   "id": "502ccc87",
   "metadata": {},
   "outputs": [
    {
     "name": "stdout",
     "output_type": "stream",
     "text": [
      "salah\n"
     ]
    }
   ],
   "source": [
    "#integer falsy 0\n",
    "#dictionary falsy {}\n",
    "#string falsy \"\"\n",
    "#list falsy []\n",
    "\n",
    "#kalo misalkan kita mendefinisikan sesuatu baik itu int, dict, string, list dalam condition, \n",
    "#akan bernilai FALSE (karena gaada definisi/isinya(?))\n",
    "\n",
    "if []:\n",
    "    print(\"benar\")\n",
    "else:\n",
    "    print(\"salah\")"
   ]
  },
  {
   "cell_type": "code",
   "execution_count": 35,
   "id": "1bc73de3",
   "metadata": {},
   "outputs": [
    {
     "name": "stdout",
     "output_type": "stream",
     "text": [
      "hello looping\n"
     ]
    }
   ],
   "source": [
    "print('hello looping')"
   ]
  },
  {
   "cell_type": "code",
   "execution_count": 37,
   "id": "8dade4e1",
   "metadata": {},
   "outputs": [],
   "source": [
    "#Looping/perulangan\n",
    "#while\n",
    "#for"
   ]
  },
  {
   "cell_type": "code",
   "execution_count": 43,
   "id": "358a2a9b",
   "metadata": {},
   "outputs": [
    {
     "name": "stdout",
     "output_type": "stream",
     "text": [
      "ini perulangan ke- 1\n",
      "ini perulangan ke- 2\n",
      "ini perulangan ke- 3\n",
      "ini perulangan ke- 4\n",
      "ini perulangan ke- 5\n",
      "ini perulangan ke- 6\n",
      "ini perulangan ke- 7\n",
      "ini perulangan ke- 8\n",
      "ini perulangan ke- 9\n",
      "ini perulangan ke- 10\n",
      "ini perulangan ke- 11\n"
     ]
    }
   ],
   "source": [
    "i = 0\n",
    "while i <= 10:\n",
    "    i = i+1\n",
    "    print(\"ini perulangan ke-\",i)"
   ]
  },
  {
   "cell_type": "code",
   "execution_count": 57,
   "id": "0755954d",
   "metadata": {},
   "outputs": [],
   "source": [
    "#CHALLENGE\n",
    "# 1. Masukkan nomor input program akan menambahkan semua bilangan genap di antara 0 sampai dengan nomor input 7 hasil = 12.\n",
    "# 2. Buatlah program di mana user memasukkan satu angka, dan program akan mengenerate angka random 0 sampai 10-\n",
    "#   jika angka yang dimasukkan user tidak sama, maka user akan diminta input angka baru\n",
    "#   jika angka sama, maka akan menampilkan tebakan kamu benar dan keluar dari program"
   ]
  },
  {
   "cell_type": "code",
   "execution_count": 64,
   "id": "4defde15",
   "metadata": {},
   "outputs": [
    {
     "name": "stdout",
     "output_type": "stream",
     "text": [
      "10\n"
     ]
    }
   ],
   "source": [
    "#1. \n",
    "number = 0\n",
    "totalEven = 0\n",
    "while number < 10:\n",
    "    if number%2 == 0:\n",
    "        totalEven += 2\n",
    "    number += 1\n",
    "print(totalEven)"
   ]
  },
  {
   "cell_type": "code",
   "execution_count": 8,
   "id": "46e7d9a9",
   "metadata": {},
   "outputs": [],
   "source": [
    "import random as rd"
   ]
  },
  {
   "cell_type": "code",
   "execution_count": 14,
   "id": "254197e3",
   "metadata": {},
   "outputs": [
    {
     "name": "stdout",
     "output_type": "stream",
     "text": [
      "Masukkan tebakan nomor:6\n",
      "Yah, tebakanmu salah. Coba lagi, ya\n",
      "Yang benar adalah: 7\n"
     ]
    }
   ],
   "source": [
    "#2. generate angka 0 - 10\n",
    "gnumber = rd.randint(0,10)\n",
    "\n",
    "unumber = int(input('Masukkan tebakan nomor:'))\n",
    "\n",
    "if unumber == gnumber:\n",
    "    print(\"Yeay, tebakanmu benar\")\n",
    "else:\n",
    "    print(\"Yah, tebakanmu salah. Coba lagi, ya\")\n",
    "    print(\"Yang benar adalah:\", gnumber)"
   ]
  },
  {
   "cell_type": "code",
   "execution_count": 68,
   "id": "d52db01e",
   "metadata": {},
   "outputs": [],
   "source": [
    "#jawaban challenge 2 ada di WA. PELAJARIN LAGI YA SOAL LOOP :((()))"
   ]
  },
  {
   "cell_type": "code",
   "execution_count": 69,
   "id": "b1288520",
   "metadata": {},
   "outputs": [
    {
     "name": "stdout",
     "output_type": "stream",
     "text": [
      "hello NESTED\n"
     ]
    }
   ],
   "source": [
    "print('hello NESTED') #NESTED itu berarti ada sesuatu di dalam sesuatu. misal while dalam while"
   ]
  },
  {
   "cell_type": "code",
   "execution_count": 77,
   "id": "e7ba97e6",
   "metadata": {},
   "outputs": [
    {
     "name": "stdout",
     "output_type": "stream",
     "text": [
      "0,0 0,1 0,2 \n",
      "1,0 1,1 1,2 \n",
      "2,0 2,1 2,2 \n",
      "\n"
     ]
    }
   ],
   "source": [
    "row=3\n",
    "col=3\n",
    "i=0\n",
    "disp=\"\"\n",
    "while i<row:\n",
    "    j=0\n",
    "    while j<col:\n",
    "        disp = disp + str(i) + \",\" + str(j) + \" \"\n",
    "        j+=1\n",
    "    disp+=\"\\n\"\n",
    "    i+=1\n",
    "print(disp)"
   ]
  },
  {
   "cell_type": "code",
   "execution_count": 78,
   "id": "99dcdb40",
   "metadata": {},
   "outputs": [],
   "source": [
    "#*\n",
    "#*\n",
    "#***\n",
    "#****\n",
    "#dst\n",
    "#bikin kaya gini pake while"
   ]
  },
  {
   "cell_type": "code",
   "execution_count": 79,
   "id": "baeea630",
   "metadata": {},
   "outputs": [
    {
     "name": "stdout",
     "output_type": "stream",
     "text": [
      "hello range loop\n"
     ]
    }
   ],
   "source": [
    "print('hello range loop')"
   ]
  },
  {
   "cell_type": "code",
   "execution_count": 80,
   "id": "0ab79a4d",
   "metadata": {},
   "outputs": [
    {
     "name": "stdout",
     "output_type": "stream",
     "text": [
      "ini perulangan ke- 0\n",
      "ini perulangan ke- 1\n",
      "ini perulangan ke- 2\n",
      "ini perulangan ke- 3\n",
      "ini perulangan ke- 4\n",
      "ini perulangan ke- 5\n",
      "ini perulangan ke- 6\n",
      "ini perulangan ke- 7\n",
      "ini perulangan ke- 8\n",
      "ini perulangan ke- 9\n"
     ]
    }
   ],
   "source": [
    "for i in range (0,10):\n",
    "    print(\"ini perulangan ke-\", i)"
   ]
  },
  {
   "cell_type": "code",
   "execution_count": 84,
   "id": "b35eccbf",
   "metadata": {},
   "outputs": [
    {
     "name": "stdout",
     "output_type": "stream",
     "text": [
      "Soobin\n",
      "Yeonjun\n",
      "Beomgyu\n",
      "Taehyun\n",
      "Huening Kai\n"
     ]
    }
   ],
   "source": [
    "txtMembers = ['Soobin', 'Yeonjun', 'Beomgyu', 'Taehyun', 'Huening Kai']\n",
    "for member in txtMembers:\n",
    "    print(member)"
   ]
  },
  {
   "cell_type": "code",
   "execution_count": 113,
   "id": "e502731d",
   "metadata": {},
   "outputs": [
    {
     "name": "stdout",
     "output_type": "stream",
     "text": [
      "Masukkan nama:vivi\n",
      "nama  : vivi\n",
      "Masukkan umur:11\n",
      "umur  : 11\n",
      "Masukkan pekerjaan:siswa\n",
      "pekerjaan  : siswa\n",
      "Masukkan hobi:main roblox\n",
      "hobi  : main roblox\n",
      "Masukkan hobi:stop\n",
      "DONE\n"
     ]
    }
   ],
   "source": [
    "myDict = {'nama': \"\", 'umur': \"\", 'pekerjaan': \"\", 'hobi': []}\n",
    "\n",
    "for key in myDict:\n",
    "    print('nama', myDict[key], \":\", input(\"Masukkan nama:\"))\n",
    "    for key in myDict:\n",
    "        print('umur', myDict[key], \":\", input(\"Masukkan umur:\"))\n",
    "        for key in myDict:\n",
    "            print('pekerjaan', myDict[key], \":\", input(\"Masukkan pekerjaan:\"))\n",
    "            for key in myDict:\n",
    "                print('hobi', myDict[key], \":\", input(\"Masukkan hobi:\"))\n",
    "                if input(\"Masukkan hobi:\") == 'stop':\n",
    "                    print('DONE')\n",
    "                break\n",
    "            break\n",
    "        break\n",
    "    break"
   ]
  },
  {
   "cell_type": "code",
   "execution_count": 1,
   "id": "cc0a9fc8",
   "metadata": {},
   "outputs": [],
   "source": [
    "hello = [1,2,3,4,5]"
   ]
  },
  {
   "cell_type": "code",
   "execution_count": 6,
   "id": "6f5c4724",
   "metadata": {},
   "outputs": [],
   "source": [
    "hello.sort(reverse=True)"
   ]
  },
  {
   "cell_type": "code",
   "execution_count": 7,
   "id": "6967b501",
   "metadata": {},
   "outputs": [
    {
     "name": "stdout",
     "output_type": "stream",
     "text": [
      "[5, 4, 3, 2, 1]\n"
     ]
    }
   ],
   "source": [
    "print(hello)"
   ]
  },
  {
   "cell_type": "code",
   "execution_count": 22,
   "id": "c90c4b47",
   "metadata": {},
   "outputs": [
    {
     "name": "stdout",
     "output_type": "stream",
     "text": [
      "ini hasilnya 10\n",
      "ini hasilnya 11\n",
      "ini hasilnya 12\n",
      "ini hasilnya 13\n",
      "ini hasilnya 14\n"
     ]
    }
   ],
   "source": [
    "n = 10\n",
    "while n < 15:\n",
    "    print(\"ini hasilnya\", n)\n",
    "    n += 1"
   ]
  },
  {
   "cell_type": "code",
   "execution_count": 19,
   "id": "2f4706a0",
   "metadata": {},
   "outputs": [
    {
     "name": "stdout",
     "output_type": "stream",
     "text": [
      "4\n",
      "3\n",
      "2\n",
      "1\n",
      "0\n"
     ]
    }
   ],
   "source": [
    "n = 5\n",
    "while n > 0:\n",
    "    n -= 1\n",
    "    print(n)"
   ]
  },
  {
   "cell_type": "code",
   "execution_count": 20,
   "id": "a69d5340",
   "metadata": {},
   "outputs": [
    {
     "name": "stdout",
     "output_type": "stream",
     "text": [
      "Ketikan temperatur yang ingin dikonversi, eg. 45F, 120C: 10C\n",
      "Temperaturnya adalah 50 derajat\n"
     ]
    }
   ],
   "source": [
    "temp = input(\"Ketikan temperatur yang ingin dikonversi, eg. 45F, 120C: \")\n",
    "degree = int(temp[:-1])\n",
    "i_convertion = temp[-1]\n",
    "\n",
    "if i_convertion == \"C\":\n",
    "    result = int(round((9 * degree) / 5 + 32))\n",
    "elif i_convertion == \"F\":\n",
    "    result = int(round((degree - 32) * 5 / 9))\n",
    "else:\n",
    "    print(\"Masukan input yang benar\")\n",
    "\n",
    "print(\"Temperaturnya adalah\", result, \"derajat\")"
   ]
  },
  {
   "cell_type": "code",
   "execution_count": 23,
   "id": "21215ddc",
   "metadata": {},
   "outputs": [
    {
     "name": "stdout",
     "output_type": "stream",
     "text": [
      "masukan nilai100\n",
      "A\n",
      "masukan nilai50\n",
      "E\n",
      "masukan nilai75\n",
      "B\n",
      "masukan nilai80\n",
      "B\n",
      "masukan nilai100\n",
      "A\n",
      "masukan nilai90\n",
      "B\n",
      "masukan nilai95\n",
      "A\n",
      "masukan nilaie\n",
      "selesai, terima kasih\n"
     ]
    }
   ],
   "source": [
    "nilaiStr = \"\"\n",
    "while True:\n",
    "    nilaiStr = input(\"masukan nilai\")\n",
    "    if not nilaiStr.isnumeric(): break;\n",
    "    \n",
    "    nilai = int(nilaiStr)\n",
    "    if nilai > 90 :\n",
    "        print(\"A\")\n",
    "    elif nilai <= 90 and nilai > 70:\n",
    "        print(\"B\")\n",
    "    else:\n",
    "        print(\"E\")\n",
    "\n",
    "print(\"selesai, terima kasih\")"
   ]
  },
  {
   "cell_type": "code",
   "execution_count": 24,
   "id": "070f6f3c",
   "metadata": {},
   "outputs": [],
   "source": [
    "haloStr = \" \""
   ]
  },
  {
   "cell_type": "code",
   "execution_count": 30,
   "id": "d8da7853",
   "metadata": {},
   "outputs": [
    {
     "name": "stdout",
     "output_type": "stream",
     "text": [
      "False\n"
     ]
    }
   ],
   "source": [
    "haloStr = \"\"\n",
    "if haloStr:\n",
    "    print(True)\n",
    "else:\n",
    "    print(False)"
   ]
  },
  {
   "cell_type": "code",
   "execution_count": 32,
   "id": "2a407f30",
   "metadata": {},
   "outputs": [
    {
     "name": "stdout",
     "output_type": "stream",
     "text": [
      "masukan nilai90\n",
      "masukan nilaie\n"
     ]
    }
   ],
   "source": [
    "nilaiStr = \"\"\n",
    "while True:\n",
    "    nilaiStr = input(\"masukan nilai\")\n",
    "    if not nilaiStr.isnumeric(): break;"
   ]
  },
  {
   "cell_type": "code",
   "execution_count": 33,
   "id": "174b8e9e",
   "metadata": {},
   "outputs": [
    {
     "name": "stdout",
     "output_type": "stream",
     "text": [
      "Ketikan karakter: YHA\n",
      "yha\n",
      "Ketikan karakter: stop\n",
      "stop\n"
     ]
    }
   ],
   "source": [
    "while True:\n",
    "    msg = input(\"Ketikan karakter: \").lower()\n",
    "    print(msg)\n",
    "    if msg == \"stop\":\n",
    "        break"
   ]
  },
  {
   "cell_type": "code",
   "execution_count": 41,
   "id": "44fe1b36",
   "metadata": {},
   "outputs": [
    {
     "name": "stdout",
     "output_type": "stream",
     "text": [
      "30\n"
     ]
    }
   ],
   "source": [
    "number = 0\n",
    "totalEven = 0\n",
    "while number < 10:\n",
    "    if number %2 == 0:\n",
    "        totalEven +=number\n",
    "    number +=1\n",
    "    totalAll = number + totalEven\n",
    "print(totalAll)"
   ]
  },
  {
   "cell_type": "code",
   "execution_count": 37,
   "id": "53fc2a9a",
   "metadata": {},
   "outputs": [
    {
     "data": {
      "text/plain": [
       "0"
      ]
     },
     "execution_count": 37,
     "metadata": {},
     "output_type": "execute_result"
    }
   ],
   "source": [
    "0%2"
   ]
  },
  {
   "cell_type": "code",
   "execution_count": 48,
   "id": "6cfc1df5",
   "metadata": {},
   "outputs": [
    {
     "name": "stdout",
     "output_type": "stream",
     "text": [
      "masukan angka dari 1 sampai 10: 1\n",
      "masukan angka dari 1 sampai 10: 2\n",
      "masukan angka dari 1 sampai 10: 3\n",
      "masukan angka dari 1 sampai 10: 4\n",
      "masukan angka dari 1 sampai 10: 5\n",
      "yeay anda benar\n"
     ]
    }
   ],
   "source": [
    "import random\n",
    "\n",
    "isUserCorrect = False\n",
    "randomNumber = random.randint(1, 10)\n",
    "while not isUserCorrect : \n",
    "    nilaiStr = input(\"masukan angka dari 1 sampai 10: \")\n",
    "    if not nilaiStr.isnumeric(): break;\n",
    "    isUserCorrect = int(nilaiStr) == randomNumber\n",
    "else:\n",
    "    print(\"yeay anda benar\")"
   ]
  },
  {
   "cell_type": "code",
   "execution_count": 49,
   "id": "04bb20d9",
   "metadata": {},
   "outputs": [
    {
     "name": "stdout",
     "output_type": "stream",
     "text": [
      "0,0 0,1 0,2 \n",
      "1,0 1,1 1,2 \n",
      "2,0 2,1 2,2 \n",
      "\n"
     ]
    }
   ],
   "source": [
    "# 1 2 3\n",
    "# 1 2 3 \n",
    "# 1 2 3\n",
    "\n",
    "row = 3\n",
    "col = 3\n",
    "i = 0\n",
    "disp = \"\"\n",
    "while i < row:\n",
    "    j = 0\n",
    "    while j < col:\n",
    "        disp = disp + str(i) + \",\" + str(j) + \" \"\n",
    "        j+=1\n",
    "    disp += \"\\n\"\n",
    "    i+=1\n",
    "print(disp)"
   ]
  },
  {
   "cell_type": "code",
   "execution_count": 54,
   "id": "5fea9297",
   "metadata": {},
   "outputs": [
    {
     "name": "stdout",
     "output_type": "stream",
     "text": [
      "*\n",
      "**\n",
      "***\n",
      "****\n",
      "*****\n",
      "\n"
     ]
    }
   ],
   "source": [
    "# *\n",
    "# **\n",
    "# ***\n",
    "# ****\n",
    "# *****\n",
    "\n",
    "row = 5\n",
    "i = 0\n",
    "disp = \"\"\n",
    "while i < row:\n",
    "    col = i + 1 # 1 2\n",
    "    j = 0\n",
    "    while j < col:# benar\n",
    "        disp += \"*\" #display\n",
    "        j += 1 # 1   2\n",
    "    disp += \"\\n\" #*\\n  **\\n\n",
    "    i= col # 1\n",
    "print(disp)"
   ]
  },
  {
   "cell_type": "code",
   "execution_count": 55,
   "id": "73ed86e6",
   "metadata": {},
   "outputs": [
    {
     "name": "stdout",
     "output_type": "stream",
     "text": [
      "masukan hobbies jika sudah masukan stopkpop\n",
      "masukan hobbies jika sudah masukan stopnonton\n",
      "masukan hobbies jika sudah masukan stopmakan\n",
      "masukan hobbies jika sudah masukan stopstop\n",
      "masukan nama jika sudah masukanvira\n",
      "masukan umur jika sudah masukan20\n",
      "masukan pekerjaan jika sudah masukanmahasiswa\n",
      "{'hobbies': ['kpop', 'nonton', 'makan', 'stop'], 'nama': 'vira', 'umur': '20', 'pekerjaan': 'mahasiswa'}\n"
     ]
    }
   ],
   "source": [
    "myDict = {\"hobbies\":[],'nama': \"\", \"umur\": \"\", \"pekerjaan\": \"\"}\n",
    "\n",
    "# masukan nama : \n",
    "# masukan umur: \n",
    "# masukan pekerjaan:\n",
    "# masukan hobiess: \n",
    "\n",
    "# {'nama': \"ego\", \"umur\": \"29\", \"pekerjaan\": \"coder\", hobbies: [\"makan\", \"tidur\",\"nonton\"]}\n",
    "\n",
    "for key in myDict:\n",
    "    if(key == \"hobbies\"):\n",
    "            userInput = \"\"\n",
    "            while userInput != \"stop\":\n",
    "                userInput = input(\"masukan {} jika sudah masukan stop\".format(key))\n",
    "                myDict[key].append(userInput)\n",
    "    else:\n",
    "        userInput = input(\"masukan {} jika sudah masukan\".format(key))\n",
    "        myDict[key] = userInput\n",
    "\n",
    "print(myDict)"
   ]
  },
  {
   "cell_type": "code",
   "execution_count": 57,
   "id": "6ea200be",
   "metadata": {},
   "outputs": [
    {
     "name": "stdout",
     "output_type": "stream",
     "text": [
      "Expression was true\n",
      "Executing statement in suite\n",
      "...\n",
      "Done.\n",
      "After conditional\n"
     ]
    }
   ],
   "source": [
    "if 'foo' in ['foo', 'baz', 'qux']:\n",
    "    print('Expression was true')\n",
    "    print('Executing statement in suite')\n",
    "    print('...')\n",
    "    print('Done.')\n",
    "    \n",
    "print('After conditional')"
   ]
  },
  {
   "cell_type": "code",
   "execution_count": 58,
   "id": "be9d2f7b",
   "metadata": {},
   "outputs": [
    {
     "name": "stdout",
     "output_type": "stream",
     "text": [
      "(second suite)\n",
      "x is large\n"
     ]
    }
   ],
   "source": [
    "x = 120\n",
    "\n",
    "if x < 50:\n",
    "    print('(first suite)')\n",
    "    print('x is small')\n",
    "else:\n",
    "    print('(second suite)')\n",
    "    print('x is large')"
   ]
  },
  {
   "cell_type": "markdown",
   "id": "b9c506a7",
   "metadata": {},
   "source": [
    "#### Catatan tambahan:\n",
    "##### Python mendukung decision-making tambahan yang disebut conditional expression. \n",
    "##### Python juga mendukung penulisan dengan One Line-If Statement, dan Pass Statement\n",
    "##### IF Statement dapat dinyatakan dengan bertingkat atau NESTED"
   ]
  },
  {
   "cell_type": "code",
   "execution_count": 59,
   "id": "2038554c",
   "metadata": {},
   "outputs": [
    {
     "name": "stdout",
     "output_type": "stream",
     "text": [
      "foo\n",
      "bar\n",
      "baz\n"
     ]
    }
   ],
   "source": [
    "a = ['foo', 'bar', 'baz']\n",
    "for i in a:\n",
    "    print(i)"
   ]
  },
  {
   "cell_type": "code",
   "execution_count": 60,
   "id": "3718ff64",
   "metadata": {},
   "outputs": [
    {
     "name": "stdout",
     "output_type": "stream",
     "text": [
      "1\n",
      "2\n",
      "3\n",
      "4\n",
      "5\n"
     ]
    }
   ],
   "source": [
    "number = [1,2,3,4,5]\n",
    "for i in number:\n",
    "    print(i)"
   ]
  },
  {
   "cell_type": "code",
   "execution_count": 61,
   "id": "489ff72f",
   "metadata": {},
   "outputs": [
    {
     "name": "stdout",
     "output_type": "stream",
     "text": [
      "foo\n",
      "bar\n",
      "baz\n"
     ]
    }
   ],
   "source": [
    "d = {'foo': 1, 'bar': 2, 'baz': 3}\n",
    "for k in d:\n",
    "    print(k)"
   ]
  },
  {
   "cell_type": "code",
   "execution_count": 62,
   "id": "832a6bc1",
   "metadata": {},
   "outputs": [
    {
     "name": "stdout",
     "output_type": "stream",
     "text": [
      "0\n",
      "1\n",
      "2\n",
      "3\n",
      "4\n"
     ]
    }
   ],
   "source": [
    "for i in range (0,5):\n",
    "    print(i)"
   ]
  },
  {
   "cell_type": "markdown",
   "id": "d3dcd069",
   "metadata": {},
   "source": [
    "### Dalam FOR Loop statement juga mendukung ELSE dan Break/Continous statement"
   ]
  },
  {
   "cell_type": "code",
   "execution_count": null,
   "id": "45a29aee",
   "metadata": {},
   "outputs": [],
   "source": []
  }
 ],
 "metadata": {
  "kernelspec": {
   "display_name": "Python 3",
   "language": "python",
   "name": "python3"
  },
  "language_info": {
   "codemirror_mode": {
    "name": "ipython",
    "version": 3
   },
   "file_extension": ".py",
   "mimetype": "text/x-python",
   "name": "python",
   "nbconvert_exporter": "python",
   "pygments_lexer": "ipython3",
   "version": "3.8.8"
  },
  "toc": {
   "base_numbering": 1,
   "nav_menu": {},
   "number_sections": true,
   "sideBar": true,
   "skip_h1_title": false,
   "title_cell": "Table of Contents",
   "title_sidebar": "Contents",
   "toc_cell": false,
   "toc_position": {},
   "toc_section_display": true,
   "toc_window_display": false
  },
  "varInspector": {
   "cols": {
    "lenName": 16,
    "lenType": 16,
    "lenVar": 40
   },
   "kernels_config": {
    "python": {
     "delete_cmd_postfix": "",
     "delete_cmd_prefix": "del ",
     "library": "var_list.py",
     "varRefreshCmd": "print(var_dic_list())"
    },
    "r": {
     "delete_cmd_postfix": ") ",
     "delete_cmd_prefix": "rm(",
     "library": "var_list.r",
     "varRefreshCmd": "cat(var_dic_list()) "
    }
   },
   "types_to_exclude": [
    "module",
    "function",
    "builtin_function_or_method",
    "instance",
    "_Feature"
   ],
   "window_display": false
  }
 },
 "nbformat": 4,
 "nbformat_minor": 5
}
