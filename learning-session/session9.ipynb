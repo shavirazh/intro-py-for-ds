{
 "cells": [
  {
   "cell_type": "markdown",
   "id": "12dbbe3a",
   "metadata": {},
   "source": [
    "# Descriptive Statistics\n",
    "\n",
    "Membantu meringkas, mengatur, dan mudah memahami data. Statistika deskriptif tidak membuat kesimpulan statistik.\n",
    "\n",
    "## Pengukuran statistika deskriptif (measurement)\n",
    "\n",
    "### Central tendency (nilai tengah)\n",
    "    * average/mean\n",
    "    * median\n",
    "    * mode (modus) \n",
    "    \n",
    "### Spread tendency (sebaran)\n",
    "    * standar deviasi/simpangan baku\n",
    "    * mean deviation\n",
    "    * variance \n",
    "    * percentile '\n",
    "    * quadratile '\n",
    "    \n",
    "## Bentuk kurva\n",
    "\n",
    "### Berdasarkan nilai tengah '\n",
    "    * positive skew\n",
    "    * simetrical skew\n",
    "    * negative skew\n",
    "\n",
    "### Berdasarkan sebaran (kurtosis) '\n",
    "    * leprokurtic\n",
    "    * mesokurtic\n",
    "    * platykurtic\n",
    "\n",
    "## Korelasi\n",
    "    * no correlation\n",
    "    * positive correlation\n",
    "    * negative correlation"
   ]
  },
  {
   "cell_type": "markdown",
   "id": "4f3e8d03",
   "metadata": {},
   "source": [
    "**CENTRAL TENDENCY CODE**"
   ]
  },
  {
   "cell_type": "code",
   "execution_count": 1,
   "id": "d1edaf74",
   "metadata": {},
   "outputs": [],
   "source": [
    "import math\n",
    "import statistics\n",
    "import numpy as np\n",
    "import scipy.stats\n",
    "import pandas as pd"
   ]
  },
  {
   "cell_type": "code",
   "execution_count": 2,
   "id": "44efc831",
   "metadata": {},
   "outputs": [
    {
     "name": "stdout",
     "output_type": "stream",
     "text": [
      "[8.0, 1, 2, 1.5, 8, 17]\n",
      "[8.0, 1, 2, nan, 1.5, 8, 17]\n"
     ]
    }
   ],
   "source": [
    "x = [8.0, 1, 2, 1.5, 8, 17]\n",
    "x_with_nan = [8.0, 1, 2, math.nan, 1.5, 8, 17]\n",
    "\n",
    "print(x)\n",
    "print(x_with_nan)"
   ]
  },
  {
   "cell_type": "code",
   "execution_count": 4,
   "id": "7c0e780f",
   "metadata": {},
   "outputs": [],
   "source": [
    "y, y_with_nan = np.array(x), np.array(x_with_nan)\n",
    "z, z_with_nan = pd.Series(x), pd.Series(x_with_nan)"
   ]
  },
  {
   "cell_type": "code",
   "execution_count": 5,
   "id": "53e4e199",
   "metadata": {},
   "outputs": [
    {
     "data": {
      "text/plain": [
       "array([ 8. ,  1. ,  2. ,  1.5,  8. , 17. ])"
      ]
     },
     "execution_count": 5,
     "metadata": {},
     "output_type": "execute_result"
    }
   ],
   "source": [
    "y"
   ]
  },
  {
   "cell_type": "code",
   "execution_count": 6,
   "id": "b0fcfb90",
   "metadata": {},
   "outputs": [
    {
     "data": {
      "text/plain": [
       "array([ 8. ,  1. ,  2. ,  nan,  1.5,  8. , 17. ])"
      ]
     },
     "execution_count": 6,
     "metadata": {},
     "output_type": "execute_result"
    }
   ],
   "source": [
    "y_with_nan"
   ]
  },
  {
   "cell_type": "code",
   "execution_count": 8,
   "id": "5c272cd4",
   "metadata": {},
   "outputs": [
    {
     "data": {
      "text/plain": [
       "0     8.0\n",
       "1     1.0\n",
       "2     2.0\n",
       "3     1.5\n",
       "4     8.0\n",
       "5    17.0\n",
       "dtype: float64"
      ]
     },
     "execution_count": 8,
     "metadata": {},
     "output_type": "execute_result"
    }
   ],
   "source": [
    "z"
   ]
  },
  {
   "cell_type": "code",
   "execution_count": 7,
   "id": "383c8027",
   "metadata": {},
   "outputs": [
    {
     "data": {
      "text/plain": [
       "0     8.0\n",
       "1     1.0\n",
       "2     2.0\n",
       "3     NaN\n",
       "4     1.5\n",
       "5     8.0\n",
       "6    17.0\n",
       "dtype: float64"
      ]
     },
     "execution_count": 7,
     "metadata": {},
     "output_type": "execute_result"
    }
   ],
   "source": [
    "z_with_nan"
   ]
  },
  {
   "cell_type": "code",
   "execution_count": 26,
   "id": "56edaaa5",
   "metadata": {},
   "outputs": [
    {
     "name": "stdout",
     "output_type": "stream",
     "text": [
      "6.25\n",
      "5.0\n",
      "8.0\n"
     ]
    }
   ],
   "source": [
    "#Central tendency data y\n",
    "mean_y = np.mean(y)\n",
    "median_y = np.median(y)\n",
    "mode_y = statistics.mode(y)\n",
    "\n",
    "print(mean_y)\n",
    "print(median_y)\n",
    "print(mode_y)"
   ]
  },
  {
   "cell_type": "code",
   "execution_count": 27,
   "id": "cb9f4abb",
   "metadata": {},
   "outputs": [
    {
     "name": "stdout",
     "output_type": "stream",
     "text": [
      "6.25\n",
      "5.0\n",
      "8.0\n"
     ]
    }
   ],
   "source": [
    "#Central tendency data y_with_nan\n",
    "mean_y_with_nan = np.nanmean(y_with_nan)\n",
    "median_y_with_nan = np.nanmedian(y_with_nan)\n",
    "mode_y_with_nan = statistics.mode(y_with_nan)\n",
    "\n",
    "print(mean_y_with_nan)\n",
    "print(median_y_with_nan)\n",
    "print(mode_y_with_nan)"
   ]
  },
  {
   "cell_type": "code",
   "execution_count": 28,
   "id": "6088ef51",
   "metadata": {},
   "outputs": [
    {
     "name": "stdout",
     "output_type": "stream",
     "text": [
      "6.25\n",
      "5.0\n",
      "8.0\n"
     ]
    }
   ],
   "source": [
    "#Central tendency data z\n",
    "mean_z = z.mean()\n",
    "median_z = z.median()\n",
    "mode_z = statistics.mode(z)\n",
    "\n",
    "print(mean_z)\n",
    "print(median_z)\n",
    "print(mode_z)"
   ]
  },
  {
   "cell_type": "code",
   "execution_count": 29,
   "id": "8b3d1aac",
   "metadata": {},
   "outputs": [
    {
     "name": "stdout",
     "output_type": "stream",
     "text": [
      "6.25\n",
      "5.0\n",
      "8.0\n"
     ]
    }
   ],
   "source": [
    "#Central tendency data z_with_nan\n",
    "mean_z_with_nan = z_with_nan.mean()\n",
    "median_z_with_nan = z_with_nan.median()\n",
    "mode_z_with_nan = statistics.mode(z_with_nan)\n",
    "\n",
    "print(mean_z_with_nan)\n",
    "print(median_z_with_nan)\n",
    "print(mode_z_with_nan)"
   ]
  },
  {
   "cell_type": "markdown",
   "id": "87dc5a26",
   "metadata": {},
   "source": [
    "**WEIGHTED MEAN CODE**"
   ]
  },
  {
   "cell_type": "code",
   "execution_count": 32,
   "id": "68495ad8",
   "metadata": {},
   "outputs": [],
   "source": [
    "x2 = [8.0, 1, 2.5, 4, 28.0]\n",
    "w = [0.7, 0.8, 0.1, 0.2, 0.3, 0.7]"
   ]
  },
  {
   "cell_type": "code",
   "execution_count": 37,
   "id": "3aee7b1a",
   "metadata": {},
   "outputs": [
    {
     "data": {
      "text/plain": [
       "7.57142857142857"
      ]
     },
     "execution_count": 37,
     "metadata": {},
     "output_type": "execute_result"
    }
   ],
   "source": [
    "wmean = sum(w[i] * x[i] for i in range(len(x))) / sum(w)\n",
    "wmean"
   ]
  },
  {
   "cell_type": "code",
   "execution_count": 39,
   "id": "8c3b0f8e",
   "metadata": {},
   "outputs": [
    {
     "data": {
      "text/plain": [
       "7.57142857142857"
      ]
     },
     "execution_count": 39,
     "metadata": {},
     "output_type": "execute_result"
    }
   ],
   "source": [
    "wmeanbp = np.average(y, weights=w)\n",
    "wmeanbp"
   ]
  },
  {
   "cell_type": "markdown",
   "id": "2475c1c0",
   "metadata": {},
   "source": [
    "**HARMONIC MEAN CODE**"
   ]
  },
  {
   "cell_type": "code",
   "execution_count": 40,
   "id": "0c82586e",
   "metadata": {},
   "outputs": [
    {
     "data": {
      "text/plain": [
       "2.423762376237624"
      ]
     },
     "execution_count": 40,
     "metadata": {},
     "output_type": "execute_result"
    }
   ],
   "source": [
    "#Seorang bapak jalan kaki 5 km pertama dengan kecepatan 2 km/jam dan 5 km kemudian\n",
    "#berjalan dengan kecepatan 4 km/jam\n",
    "\n",
    "#n / sigma(1/n)\n",
    "#2/(1/2 + 1/4)\n",
    "\n",
    "harmonic_mean = len(x) / sum(1/i for i in x)\n",
    "harmonic_mean"
   ]
  },
  {
   "cell_type": "code",
   "execution_count": 41,
   "id": "797880e2",
   "metadata": {},
   "outputs": [
    {
     "data": {
      "text/plain": [
       "2.4237623762376237"
      ]
     },
     "execution_count": 41,
     "metadata": {},
     "output_type": "execute_result"
    }
   ],
   "source": [
    "harmonic_mean_stat = statistics.harmonic_mean(x)\n",
    "harmonic_mean_stat"
   ]
  },
  {
   "cell_type": "code",
   "execution_count": 42,
   "id": "1f6e3628",
   "metadata": {},
   "outputs": [
    {
     "data": {
      "text/plain": [
       "2.423762376237624"
      ]
     },
     "execution_count": 42,
     "metadata": {},
     "output_type": "execute_result"
    }
   ],
   "source": [
    "harmonic_mean_scipy = scipy.stats.hmean(x)\n",
    "harmonic_mean_scipy"
   ]
  },
  {
   "cell_type": "markdown",
   "id": "3a1d416e",
   "metadata": {},
   "source": [
    "**GEOMETRIC MEAN**"
   ]
  },
  {
   "cell_type": "code",
   "execution_count": 44,
   "id": "f9887920",
   "metadata": {},
   "outputs": [
    {
     "name": "stdout",
     "output_type": "stream",
     "text": [
      "0.5916079783099616 0.5773502691896257\n"
     ]
    }
   ],
   "source": [
    "#Misal ada laptop 1 harga 20jt lama pakai 7 tahun\n",
    "#Laptop 2 harga 12jt lama pakai 4 tahun\n",
    "\n",
    "laptop1_geomean = math.sqrt(1/20 * 7)\n",
    "laptop2_geomean = math.sqrt(1/12 * 4)\n",
    "print(laptop1_geomean, laptop2_geomean)"
   ]
  },
  {
   "cell_type": "markdown",
   "id": "6030c97d",
   "metadata": {},
   "source": [
    "**MEDIAN**"
   ]
  },
  {
   "cell_type": "code",
   "execution_count": 45,
   "id": "ab25549c",
   "metadata": {},
   "outputs": [
    {
     "data": {
      "text/plain": [
       "[0.1, 0.2, 0.3, 0.7, 0.7, 0.8]"
      ]
     },
     "execution_count": 45,
     "metadata": {},
     "output_type": "execute_result"
    }
   ],
   "source": [
    "#Cara hitung median urutkan dari besar ke kecil, jika n%2 = 0 ...\n",
    "\n",
    "median_data = [0.7, 0.8, 0.1, 0.2, 0.3, 0.7]\n",
    "median_data.sort()\n",
    "median_data"
   ]
  },
  {
   "cell_type": "code",
   "execution_count": 46,
   "id": "2facdf5f",
   "metadata": {},
   "outputs": [
    {
     "data": {
      "text/plain": [
       "0.7"
      ]
     },
     "execution_count": 46,
     "metadata": {},
     "output_type": "execute_result"
    }
   ],
   "source": [
    "median_stat_high = statistics.median_high(median_data)\n",
    "median_stat_high"
   ]
  },
  {
   "cell_type": "code",
   "execution_count": 47,
   "id": "61fa0100",
   "metadata": {},
   "outputs": [
    {
     "data": {
      "text/plain": [
       "0.3"
      ]
     },
     "execution_count": 47,
     "metadata": {},
     "output_type": "execute_result"
    }
   ],
   "source": [
    "median_stat_low = statistics.median_low(median_data)\n",
    "median_stat_low"
   ]
  },
  {
   "cell_type": "markdown",
   "id": "c5416b52",
   "metadata": {},
   "source": [
    "**MODUS**"
   ]
  },
  {
   "cell_type": "code",
   "execution_count": 54,
   "id": "929fc469",
   "metadata": {},
   "outputs": [
    {
     "data": {
      "text/plain": [
       "1"
      ]
     },
     "execution_count": 54,
     "metadata": {},
     "output_type": "execute_result"
    }
   ],
   "source": [
    "modus_data = [1,1,1,3,4,5,6,7,8,9,1]\n",
    "modus = max((modus_data.count(i),i) for i in set(modus_data))[1]\n",
    "modus"
   ]
  },
  {
   "cell_type": "code",
   "execution_count": 55,
   "id": "f190ec70",
   "metadata": {},
   "outputs": [
    {
     "data": {
      "text/plain": [
       "1"
      ]
     },
     "execution_count": 55,
     "metadata": {},
     "output_type": "execute_result"
    }
   ],
   "source": [
    "modus_stat = statistics.mode(modus_data)\n",
    "modus_stat"
   ]
  },
  {
   "cell_type": "markdown",
   "id": "6380956b",
   "metadata": {},
   "source": [
    "**VARIANCE**"
   ]
  },
  {
   "cell_type": "code",
   "execution_count": 56,
   "id": "bb2ef53d",
   "metadata": {},
   "outputs": [
    {
     "name": "stdout",
     "output_type": "stream",
     "text": [
      "9.163636363636362 9.163636363636364\n"
     ]
    }
   ],
   "source": [
    "variancestate = statistics.variance(modus_data)\n",
    "mean_ = sum(modus_data)/len(modus_data)\n",
    "variance= sum((i - mean_)**2 for i in modus_data)/(len(modus_data)-1)\n",
    "print(variance, variancestate)"
   ]
  },
  {
   "cell_type": "markdown",
   "id": "9c6581ef",
   "metadata": {},
   "source": [
    "**STANDAR DEVIATION**"
   ]
  },
  {
   "cell_type": "code",
   "execution_count": 57,
   "id": "7af8b88c",
   "metadata": {},
   "outputs": [
    {
     "name": "stdout",
     "output_type": "stream",
     "text": [
      "3.027149874657078 3.027149874657078\n"
     ]
    }
   ],
   "source": [
    "stdv = math.sqrt(variance)\n",
    "stdvStat = statistics.stdev(modus_data)\n",
    "print(stdv, stdvStat)"
   ]
  },
  {
   "cell_type": "markdown",
   "id": "f5a97906",
   "metadata": {},
   "source": [
    "**SKEWNESS**"
   ]
  },
  {
   "cell_type": "code",
   "execution_count": 58,
   "id": "49c3b290",
   "metadata": {},
   "outputs": [
    {
     "data": {
      "text/plain": [
       "0.24935156205469858"
      ]
     },
     "execution_count": 58,
     "metadata": {},
     "output_type": "execute_result"
    }
   ],
   "source": [
    "skwness = scipy.stats.skew(modus_data)\n",
    "skwness"
   ]
  },
  {
   "cell_type": "markdown",
   "id": "ab7785b4",
   "metadata": {},
   "source": [
    "**PERCENTILE**"
   ]
  },
  {
   "cell_type": "code",
   "execution_count": 60,
   "id": "41d0e40c",
   "metadata": {},
   "outputs": [
    {
     "data": {
      "text/plain": [
       "9.0"
      ]
     },
     "execution_count": 60,
     "metadata": {},
     "output_type": "execute_result"
    }
   ],
   "source": [
    "fivepercentile = np.percentile(modus_data, 100)\n",
    "fivepercentile"
   ]
  },
  {
   "cell_type": "markdown",
   "id": "6ddf0176",
   "metadata": {},
   "source": [
    "**RANGE (MAX VAL - MIN VAL)**"
   ]
  },
  {
   "cell_type": "code",
   "execution_count": 61,
   "id": "8fc03862",
   "metadata": {},
   "outputs": [
    {
     "data": {
      "text/plain": [
       "DescribeResult(nobs=11, minmax=(1, 9), mean=4.181818181818182, variance=9.163636363636364, skewness=0.24935156205469858, kurtosis=-1.3784722222222225)"
      ]
     },
     "execution_count": 61,
     "metadata": {},
     "output_type": "execute_result"
    }
   ],
   "source": [
    "describeData = scipy.stats.describe(modus_data)\n",
    "describeData"
   ]
  },
  {
   "cell_type": "markdown",
   "id": "91dfa60c",
   "metadata": {},
   "source": [
    "**KORELASI**"
   ]
  },
  {
   "cell_type": "code",
   "execution_count": 65,
   "id": "ac96e1e3",
   "metadata": {},
   "outputs": [
    {
     "name": "stdout",
     "output_type": "stream",
     "text": [
      "[0 1 2 3 4 5 6 7 8 9] [0.07818741 0.79452355 0.55012285 0.82444301 0.48751851 0.21704292\n",
      " 0.98127607 0.73176495 0.3934123  0.73184246]\n"
     ]
    }
   ],
   "source": [
    "x = np.array(range(0,10))\n",
    "y = np.random.rand(10)\n",
    "print(x, y)"
   ]
  },
  {
   "cell_type": "code",
   "execution_count": 66,
   "id": "47372e30",
   "metadata": {},
   "outputs": [
    {
     "data": {
      "text/plain": [
       "array([[9.16666667, 0.23240838],\n",
       "       [0.23240838, 0.08229871]])"
      ]
     },
     "execution_count": 66,
     "metadata": {},
     "output_type": "execute_result"
    }
   ],
   "source": [
    "covarianxy = np.cov(x,y)\n",
    "covarianxy"
   ]
  },
  {
   "cell_type": "code",
   "execution_count": 67,
   "id": "53e99121",
   "metadata": {},
   "outputs": [
    {
     "data": {
      "text/plain": [
       "array([[1, 1, 1],\n",
       "       [1, 2, 4],\n",
       "       [4, 8, 9],\n",
       "       [5, 6, 7]])"
      ]
     },
     "execution_count": 67,
     "metadata": {},
     "output_type": "execute_result"
    }
   ],
   "source": [
    "twod = np.array([\n",
    "    [1,1,1],\n",
    "    [1,2,4],\n",
    "    [4,8,9],\n",
    "    [5,6,7]\n",
    "    \n",
    "])\n",
    "twod"
   ]
  },
  {
   "cell_type": "code",
   "execution_count": 68,
   "id": "88c6e970",
   "metadata": {},
   "outputs": [
    {
     "data": {
      "text/plain": [
       "4.083333333333333"
      ]
     },
     "execution_count": 68,
     "metadata": {},
     "output_type": "execute_result"
    }
   ],
   "source": [
    "np.mean(twod)"
   ]
  },
  {
   "cell_type": "code",
   "execution_count": 69,
   "id": "59ba642c",
   "metadata": {},
   "outputs": [
    {
     "data": {
      "text/plain": [
       "4.083333333333333"
      ]
     },
     "execution_count": 69,
     "metadata": {},
     "output_type": "execute_result"
    }
   ],
   "source": [
    "twod.mean()"
   ]
  },
  {
   "cell_type": "code",
   "execution_count": 71,
   "id": "49d07630",
   "metadata": {},
   "outputs": [
    {
     "data": {
      "text/plain": [
       "4.0"
      ]
     },
     "execution_count": 71,
     "metadata": {},
     "output_type": "execute_result"
    }
   ],
   "source": [
    "np.median(twod)"
   ]
  },
  {
   "cell_type": "code",
   "execution_count": 75,
   "id": "b57dbe49",
   "metadata": {},
   "outputs": [
    {
     "name": "stdout",
     "output_type": "stream",
     "text": [
      "[2.75 4.25 5.25] [1.         2.33333333 7.         6.        ]\n"
     ]
    }
   ],
   "source": [
    "xmed = np.mean(twod, axis=0)\n",
    "ymed = np.mean(twod, axis=1)\n",
    "print(xmed, ymed)"
   ]
  },
  {
   "cell_type": "code",
   "execution_count": 76,
   "id": "7dcff5f9",
   "metadata": {},
   "outputs": [
    {
     "data": {
      "text/plain": [
       "array([2.11474253, 3.13016916, 3.9842826 ])"
      ]
     },
     "execution_count": 76,
     "metadata": {},
     "output_type": "execute_result"
    }
   ],
   "source": [
    "scipy.stats.gmean(twod)"
   ]
  },
  {
   "cell_type": "code",
   "execution_count": 77,
   "id": "efa6cadd",
   "metadata": {},
   "outputs": [
    {
     "data": {
      "text/plain": [
       "array([1.        , 2.        , 6.6038545 , 5.94392195])"
      ]
     },
     "execution_count": 77,
     "metadata": {},
     "output_type": "execute_result"
    }
   ],
   "source": [
    "scipy.stats.gmean(twod, axis=1)"
   ]
  },
  {
   "cell_type": "code",
   "execution_count": 78,
   "id": "57bff999",
   "metadata": {},
   "outputs": [
    {
     "data": {
      "text/plain": [
       "DescribeResult(nobs=4, minmax=(array([1, 1, 1]), array([5, 8, 9])), mean=array([2.75, 4.25, 5.25]), variance=array([ 4.25      , 10.91666667, 12.25      ]), skewness=array([ 0.11531718,  0.13205603, -0.18515606]), kurtosis=array([-1.84775087, -1.71586737, -1.41302235]))"
      ]
     },
     "execution_count": 78,
     "metadata": {},
     "output_type": "execute_result"
    }
   ],
   "source": [
    "scipy.stats.describe(twod)"
   ]
  },
  {
   "cell_type": "code",
   "execution_count": 79,
   "id": "fa62f280",
   "metadata": {},
   "outputs": [
    {
     "data": {
      "text/html": [
       "<div>\n",
       "<style scoped>\n",
       "    .dataframe tbody tr th:only-of-type {\n",
       "        vertical-align: middle;\n",
       "    }\n",
       "\n",
       "    .dataframe tbody tr th {\n",
       "        vertical-align: top;\n",
       "    }\n",
       "\n",
       "    .dataframe thead th {\n",
       "        text-align: right;\n",
       "    }\n",
       "</style>\n",
       "<table border=\"1\" class=\"dataframe\">\n",
       "  <thead>\n",
       "    <tr style=\"text-align: right;\">\n",
       "      <th></th>\n",
       "      <th>a</th>\n",
       "      <th>b</th>\n",
       "      <th>c</th>\n",
       "    </tr>\n",
       "  </thead>\n",
       "  <tbody>\n",
       "    <tr>\n",
       "      <th>1</th>\n",
       "      <td>1</td>\n",
       "      <td>1</td>\n",
       "      <td>1</td>\n",
       "    </tr>\n",
       "    <tr>\n",
       "      <th>2</th>\n",
       "      <td>1</td>\n",
       "      <td>2</td>\n",
       "      <td>4</td>\n",
       "    </tr>\n",
       "    <tr>\n",
       "      <th>3</th>\n",
       "      <td>4</td>\n",
       "      <td>8</td>\n",
       "      <td>9</td>\n",
       "    </tr>\n",
       "    <tr>\n",
       "      <th>4</th>\n",
       "      <td>5</td>\n",
       "      <td>6</td>\n",
       "      <td>7</td>\n",
       "    </tr>\n",
       "  </tbody>\n",
       "</table>\n",
       "</div>"
      ],
      "text/plain": [
       "   a  b  c\n",
       "1  1  1  1\n",
       "2  1  2  4\n",
       "3  4  8  9\n",
       "4  5  6  7"
      ]
     },
     "execution_count": 79,
     "metadata": {},
     "output_type": "execute_result"
    }
   ],
   "source": [
    "row_names = [1,2,3,4]\n",
    "col_names = [\"a\",\"b\",\"c\"]\n",
    "\n",
    "df = pd.DataFrame(twod, index = row_names, columns=col_names)\n",
    "df"
   ]
  },
  {
   "cell_type": "code",
   "execution_count": 80,
   "id": "35d6b3a4",
   "metadata": {},
   "outputs": [
    {
     "data": {
      "text/plain": [
       "a    2.75\n",
       "b    4.25\n",
       "c    5.25\n",
       "dtype: float64"
      ]
     },
     "execution_count": 80,
     "metadata": {},
     "output_type": "execute_result"
    }
   ],
   "source": [
    "df.mean()"
   ]
  },
  {
   "cell_type": "code",
   "execution_count": 81,
   "id": "b89c0b69",
   "metadata": {},
   "outputs": [
    {
     "data": {
      "text/plain": [
       "a     4.250000\n",
       "b    10.916667\n",
       "c    12.250000\n",
       "dtype: float64"
      ]
     },
     "execution_count": 81,
     "metadata": {},
     "output_type": "execute_result"
    }
   ],
   "source": [
    "df.var()"
   ]
  },
  {
   "cell_type": "code",
   "execution_count": 82,
   "id": "67e09e1a",
   "metadata": {},
   "outputs": [
    {
     "data": {
      "text/plain": [
       "1    1.000000\n",
       "2    2.333333\n",
       "3    7.000000\n",
       "4    6.000000\n",
       "dtype: float64"
      ]
     },
     "execution_count": 82,
     "metadata": {},
     "output_type": "execute_result"
    }
   ],
   "source": [
    "df.mean(axis = 1)"
   ]
  },
  {
   "cell_type": "code",
   "execution_count": 83,
   "id": "f8e04104",
   "metadata": {},
   "outputs": [
    {
     "data": {
      "text/plain": [
       "1    1\n",
       "2    1\n",
       "3    4\n",
       "4    5\n",
       "Name: a, dtype: int32"
      ]
     },
     "execution_count": 83,
     "metadata": {},
     "output_type": "execute_result"
    }
   ],
   "source": [
    "df.loc[:,\"a\"]"
   ]
  },
  {
   "cell_type": "code",
   "execution_count": 84,
   "id": "0d28d6b2",
   "metadata": {},
   "outputs": [
    {
     "data": {
      "text/plain": [
       "1    1\n",
       "2    1\n",
       "3    4\n",
       "4    5\n",
       "Name: a, dtype: int32"
      ]
     },
     "execution_count": 84,
     "metadata": {},
     "output_type": "execute_result"
    }
   ],
   "source": [
    "df['a']"
   ]
  },
  {
   "cell_type": "code",
   "execution_count": 86,
   "id": "00481e65",
   "metadata": {},
   "outputs": [
    {
     "data": {
      "text/plain": [
       "2.75"
      ]
     },
     "execution_count": 86,
     "metadata": {},
     "output_type": "execute_result"
    }
   ],
   "source": [
    "df['a'].mean()"
   ]
  },
  {
   "cell_type": "code",
   "execution_count": 87,
   "id": "2d9aec91",
   "metadata": {},
   "outputs": [
    {
     "data": {
      "text/plain": [
       "4.083333333333333"
      ]
     },
     "execution_count": 87,
     "metadata": {},
     "output_type": "execute_result"
    }
   ],
   "source": [
    "df.mean().mean()"
   ]
  },
  {
   "cell_type": "code",
   "execution_count": 89,
   "id": "a515ccf2",
   "metadata": {},
   "outputs": [
    {
     "data": {
      "text/html": [
       "<div>\n",
       "<style scoped>\n",
       "    .dataframe tbody tr th:only-of-type {\n",
       "        vertical-align: middle;\n",
       "    }\n",
       "\n",
       "    .dataframe tbody tr th {\n",
       "        vertical-align: top;\n",
       "    }\n",
       "\n",
       "    .dataframe thead th {\n",
       "        text-align: right;\n",
       "    }\n",
       "</style>\n",
       "<table border=\"1\" class=\"dataframe\">\n",
       "  <thead>\n",
       "    <tr style=\"text-align: right;\">\n",
       "      <th></th>\n",
       "      <th>a</th>\n",
       "      <th>b</th>\n",
       "      <th>c</th>\n",
       "    </tr>\n",
       "  </thead>\n",
       "  <tbody>\n",
       "    <tr>\n",
       "      <th>count</th>\n",
       "      <td>4.000000</td>\n",
       "      <td>4.000000</td>\n",
       "      <td>4.00</td>\n",
       "    </tr>\n",
       "    <tr>\n",
       "      <th>mean</th>\n",
       "      <td>2.750000</td>\n",
       "      <td>4.250000</td>\n",
       "      <td>5.25</td>\n",
       "    </tr>\n",
       "    <tr>\n",
       "      <th>std</th>\n",
       "      <td>2.061553</td>\n",
       "      <td>3.304038</td>\n",
       "      <td>3.50</td>\n",
       "    </tr>\n",
       "    <tr>\n",
       "      <th>min</th>\n",
       "      <td>1.000000</td>\n",
       "      <td>1.000000</td>\n",
       "      <td>1.00</td>\n",
       "    </tr>\n",
       "    <tr>\n",
       "      <th>25%</th>\n",
       "      <td>1.000000</td>\n",
       "      <td>1.750000</td>\n",
       "      <td>3.25</td>\n",
       "    </tr>\n",
       "    <tr>\n",
       "      <th>50%</th>\n",
       "      <td>2.500000</td>\n",
       "      <td>4.000000</td>\n",
       "      <td>5.50</td>\n",
       "    </tr>\n",
       "    <tr>\n",
       "      <th>75%</th>\n",
       "      <td>4.250000</td>\n",
       "      <td>6.500000</td>\n",
       "      <td>7.50</td>\n",
       "    </tr>\n",
       "    <tr>\n",
       "      <th>max</th>\n",
       "      <td>5.000000</td>\n",
       "      <td>8.000000</td>\n",
       "      <td>9.00</td>\n",
       "    </tr>\n",
       "  </tbody>\n",
       "</table>\n",
       "</div>"
      ],
      "text/plain": [
       "              a         b     c\n",
       "count  4.000000  4.000000  4.00\n",
       "mean   2.750000  4.250000  5.25\n",
       "std    2.061553  3.304038  3.50\n",
       "min    1.000000  1.000000  1.00\n",
       "25%    1.000000  1.750000  3.25\n",
       "50%    2.500000  4.000000  5.50\n",
       "75%    4.250000  6.500000  7.50\n",
       "max    5.000000  8.000000  9.00"
      ]
     },
     "execution_count": 89,
     "metadata": {},
     "output_type": "execute_result"
    }
   ],
   "source": [
    "df.describe()"
   ]
  },
  {
   "cell_type": "code",
   "execution_count": null,
   "id": "ec0c6633",
   "metadata": {},
   "outputs": [],
   "source": []
  }
 ],
 "metadata": {
  "kernelspec": {
   "display_name": "Python 3",
   "language": "python",
   "name": "python3"
  },
  "language_info": {
   "codemirror_mode": {
    "name": "ipython",
    "version": 3
   },
   "file_extension": ".py",
   "mimetype": "text/x-python",
   "name": "python",
   "nbconvert_exporter": "python",
   "pygments_lexer": "ipython3",
   "version": "3.8.8"
  },
  "toc": {
   "base_numbering": 1,
   "nav_menu": {},
   "number_sections": true,
   "sideBar": true,
   "skip_h1_title": false,
   "title_cell": "Table of Contents",
   "title_sidebar": "Contents",
   "toc_cell": false,
   "toc_position": {
    "height": "calc(100% - 180px)",
    "left": "10px",
    "top": "150px",
    "width": "150px"
   },
   "toc_section_display": true,
   "toc_window_display": false
  },
  "varInspector": {
   "cols": {
    "lenName": 16,
    "lenType": 16,
    "lenVar": 40
   },
   "kernels_config": {
    "python": {
     "delete_cmd_postfix": "",
     "delete_cmd_prefix": "del ",
     "library": "var_list.py",
     "varRefreshCmd": "print(var_dic_list())"
    },
    "r": {
     "delete_cmd_postfix": ") ",
     "delete_cmd_prefix": "rm(",
     "library": "var_list.r",
     "varRefreshCmd": "cat(var_dic_list()) "
    }
   },
   "types_to_exclude": [
    "module",
    "function",
    "builtin_function_or_method",
    "instance",
    "_Feature"
   ],
   "window_display": false
  }
 },
 "nbformat": 4,
 "nbformat_minor": 5
}
