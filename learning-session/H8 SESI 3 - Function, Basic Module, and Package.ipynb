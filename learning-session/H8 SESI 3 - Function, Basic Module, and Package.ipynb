{
 "cells": [
  {
   "cell_type": "markdown",
   "id": "f975dec2",
   "metadata": {},
   "source": [
    "### SELF LEARNING"
   ]
  },
  {
   "cell_type": "code",
   "execution_count": 1,
   "id": "2ca91c21",
   "metadata": {},
   "outputs": [
    {
     "name": "stdout",
     "output_type": "stream",
     "text": [
      "hello world\n"
     ]
    }
   ],
   "source": [
    "print(\"hello world\")"
   ]
  },
  {
   "cell_type": "code",
   "execution_count": 7,
   "id": "06a9420a",
   "metadata": {},
   "outputs": [
    {
     "name": "stdout",
     "output_type": "stream",
     "text": [
      "halo\n",
      "cape\n"
     ]
    }
   ],
   "source": [
    "def printme(str):\n",
    "   \"This prints a passed string into this function\"\n",
    "   print(str)\n",
    "printme(\"halo\")\n",
    "printme(\"cape\")"
   ]
  },
  {
   "cell_type": "code",
   "execution_count": 92,
   "id": "5c449bc4",
   "metadata": {},
   "outputs": [
    {
     "name": "stdout",
     "output_type": "stream",
     "text": [
      "Masukkan panjang sisi: 80\n",
      "Luas persegi dengan panjang sisi 80 satuan adalah 6400 satuan kuadrat\n"
     ]
    }
   ],
   "source": [
    "def luas_persegi(s):\n",
    "    \"Untuk menghitung luas persegi\"\n",
    "    luas = s**2\n",
    "    print(\"Luas persegi dengan panjang sisi {} satuan adalah\".format(s), luas, \"satuan kuadrat\")\n",
    "sisi = int(input(\"Masukkan panjang sisi: \"))\n",
    "luas_persegi(sisi)"
   ]
  },
  {
   "cell_type": "code",
   "execution_count": 126,
   "id": "59cf48ca",
   "metadata": {},
   "outputs": [
    {
     "name": "stdout",
     "output_type": "stream",
     "text": [
      "Please input txt member name: hello\n",
      "Please insert TXT member name\n"
     ]
    }
   ],
   "source": [
    "def who_in_txt(str):\n",
    "    if str == \"Taehyun\" or str == \"Kang Taehyun\":\n",
    "        print(\"Main Vocal\")\n",
    "    elif str == \"Beomgyu\" or str == \"Choi Beomgyu\":\n",
    "        print(\"Visual\")\n",
    "    elif str == \"Soobin\" or str == \"Choi Soobin\":\n",
    "        print(\"Leader\")\n",
    "    elif str == \"Yeonjun\" or str == \"Choi Yeonjun\":\n",
    "        print(\"Main dancer and rapper\")\n",
    "    elif str == \"Huening Kai\":\n",
    "        print(\"Maknae\")\n",
    "    else:\n",
    "        print(\"Please insert TXT member name\")\n",
    "member = input(\"Please input txt member name: \")\n",
    "who_in_txt(member)"
   ]
  },
  {
   "cell_type": "code",
   "execution_count": 36,
   "id": "0996c7f2",
   "metadata": {},
   "outputs": [
    {
     "name": "stdout",
     "output_type": "stream",
     "text": [
      "Values inside the function:  [10, 20, 30, [1, 2, 3, 4]]\n"
     ]
    }
   ],
   "source": [
    "# Function definition is here\n",
    "def changeme( mylist ):\n",
    "   \"This changes a passed list into this function\"\n",
    "   mylist.append([1,2,3,4]);\n",
    "   print(\"Values inside the function: \", mylist)\n",
    "   return\n",
    "changeme([10,20,30])"
   ]
  },
  {
   "cell_type": "code",
   "execution_count": 37,
   "id": "07054c51",
   "metadata": {},
   "outputs": [
    {
     "name": "stdout",
     "output_type": "stream",
     "text": [
      "Output is: \n",
      "10\n",
      "Output is: \n",
      "70\n"
     ]
    }
   ],
   "source": [
    "# Function definition is here\n",
    "def printinfo( arg1, *vartuple ):\n",
    "   \"This prints a variable passed arguments\"\n",
    "   print(\"Output is: \")\n",
    "   print(arg1)\n",
    "   return;\n",
    "\n",
    "# Now you can call printinfo function\n",
    "printinfo( 10 )\n",
    "printinfo( 70, 60, 50, \"a\" )"
   ]
  },
  {
   "cell_type": "code",
   "execution_count": 38,
   "id": "4b94efd7",
   "metadata": {},
   "outputs": [
    {
     "name": "stdout",
     "output_type": "stream",
     "text": [
      "Output is: \n",
      "10\n",
      "Output is: \n",
      "70\n",
      "60\n",
      "50\n",
      "a\n"
     ]
    }
   ],
   "source": [
    "# Function definition is here\n",
    "def printinfo( arg1, *vartuple ):\n",
    "   \"This prints a variable passed arguments\"\n",
    "   print(\"Output is: \")\n",
    "   print(arg1)\n",
    "   for var in vartuple:\n",
    "      print(var)\n",
    "   return;\n",
    "\n",
    "# Now you can call printinfo function\n",
    "printinfo( 10 )\n",
    "printinfo( 70, 60, 50, \"a\" )"
   ]
  },
  {
   "cell_type": "code",
   "execution_count": 59,
   "id": "9ceecf1d",
   "metadata": {},
   "outputs": [],
   "source": [
    "#ada satu contoh pake def yang star stair"
   ]
  },
  {
   "cell_type": "markdown",
   "id": "46afaf33",
   "metadata": {},
   "source": [
    "### SESI 3"
   ]
  },
  {
   "cell_type": "code",
   "execution_count": 43,
   "id": "78f0d72b",
   "metadata": {},
   "outputs": [
    {
     "data": {
      "text/plain": [
       "81"
      ]
     },
     "execution_count": 43,
     "metadata": {},
     "output_type": "execute_result"
    }
   ],
   "source": [
    "def quadrad(number):\n",
    "    hasil = number**2\n",
    "    return hasil\n",
    "quadrad(9)"
   ]
  },
  {
   "cell_type": "code",
   "execution_count": 83,
   "id": "ff2bae19",
   "metadata": {},
   "outputs": [
    {
     "name": "stdout",
     "output_type": "stream",
     "text": [
      "Please input your age: 20\n",
      "you are adult\n",
      "lets drink\n"
     ]
    }
   ],
   "source": [
    "def printInfo():\n",
    "    myage = int(input(\"Please input your age: \"))\n",
    "    adultTreshold = 18\n",
    "\n",
    "    if myage >= adultTreshold:\n",
    "        print(\"you are adult\")\n",
    "        print(\"lets drink\")\n",
    "    else:\n",
    "        yearsToaduld = adultTreshold - myage\n",
    "        print(\"you are under age lets wait {} more years \".format(yearsToaduld))\n",
    "printInfo()"
   ]
  },
  {
   "cell_type": "code",
   "execution_count": 84,
   "id": "431bafad",
   "metadata": {},
   "outputs": [
    {
     "name": "stdout",
     "output_type": "stream",
     "text": [
      "you are under age lets wait 5 more years \n"
     ]
    }
   ],
   "source": [
    "def printInfo2(myage):\n",
    "    adultTreshold = 18\n",
    "\n",
    "    if myage >= adultTreshold:\n",
    "        print(\"you are adult\")\n",
    "        print(\"lets drink\")\n",
    "    else:\n",
    "        yearsToaduld = adultTreshold - myage\n",
    "        print(\"you are under age lets wait {} more years \".format(yearsToaduld))\n",
    "printInfo2(13)"
   ]
  },
  {
   "cell_type": "code",
   "execution_count": 86,
   "id": "02668716",
   "metadata": {},
   "outputs": [
    {
     "data": {
      "text/plain": [
       "False"
      ]
     },
     "execution_count": 86,
     "metadata": {},
     "output_type": "execute_result"
    }
   ],
   "source": [
    "name = \"mama\"\n",
    "name.isnumeric()"
   ]
  },
  {
   "cell_type": "code",
   "execution_count": 98,
   "id": "18db792b",
   "metadata": {},
   "outputs": [
    {
     "name": "stdout",
     "output_type": "stream",
     "text": [
      "Hello my name is vira\n",
      "I am 20 years old\n"
     ]
    }
   ],
   "source": [
    "def identity(name, age):\n",
    "    print(\"Hello my name is\", name)\n",
    "    print(\"I am\", age, \"years old\")\n",
    "identity(\"vira\", 20)"
   ]
  },
  {
   "cell_type": "code",
   "execution_count": 105,
   "id": "cca1298a",
   "metadata": {},
   "outputs": [
    {
     "name": "stdout",
     "output_type": "stream",
     "text": [
      "15\n"
     ]
    }
   ],
   "source": [
    "def tambah(a,b,*res):\n",
    "    hasil = a + b \n",
    "    for i in res:\n",
    "        hasil += i\n",
    "    print(hasil)\n",
    "tambah(1,2,3,4,5)"
   ]
  },
  {
   "cell_type": "code",
   "execution_count": 107,
   "id": "68037db4",
   "metadata": {},
   "outputs": [
    {
     "data": {
      "text/plain": [
       "15"
      ]
     },
     "execution_count": 107,
     "metadata": {},
     "output_type": "execute_result"
    }
   ],
   "source": [
    "def sum(a, b, *res):\n",
    "    hasil_sum = a + b\n",
    "    for i in res:\n",
    "        hasil_sum += i\n",
    "    return hasil_sum\n",
    "sum(1,2,3,4,5)"
   ]
  },
  {
   "cell_type": "code",
   "execution_count": 108,
   "id": "53973f55",
   "metadata": {},
   "outputs": [
    {
     "data": {
      "text/plain": [
       "60"
      ]
     },
     "execution_count": 108,
     "metadata": {},
     "output_type": "execute_result"
    }
   ],
   "source": [
    "def product(c, d, *res2):\n",
    "    hasil_product = c*d\n",
    "    for i in res2:\n",
    "        hasil_product *= i\n",
    "    return hasil_product\n",
    "product(3,4,5)"
   ]
  },
  {
   "cell_type": "code",
   "execution_count": 110,
   "id": "ba43492a",
   "metadata": {},
   "outputs": [
    {
     "data": {
      "text/plain": [
       "3154"
      ]
     },
     "execution_count": 110,
     "metadata": {},
     "output_type": "execute_result"
    }
   ],
   "source": [
    "# f(x,y,z) = 10x + y^2 + z^5\n",
    "def function(x,y,z):\n",
    "    fx = product(10, x)\n",
    "    fy = product(y, y)\n",
    "    fz = product(z, z, z, z, z)\n",
    "    fxyz = sum(fx, fy, fz)\n",
    "    return fxyz\n",
    "function(2,3,5)"
   ]
  },
  {
   "cell_type": "code",
   "execution_count": 113,
   "id": "8dc87a6f",
   "metadata": {},
   "outputs": [
    {
     "data": {
      "text/plain": [
       "3154"
      ]
     },
     "execution_count": 113,
     "metadata": {},
     "output_type": "execute_result"
    }
   ],
   "source": [
    "def function(x,y,z):\n",
    "    \"Ini fungsi\"\n",
    "    def sum(a, b, *res):\n",
    "        hasil_sum = a + b\n",
    "        for i in res:\n",
    "            hasil_sum += i\n",
    "        return hasil_sum\n",
    "    def product(c, d, *res2):\n",
    "        hasil_product = c*d\n",
    "        for i in res2:\n",
    "            hasil_product *= i  \n",
    "        return(hasil_product)\n",
    "    fx = product(10, x)\n",
    "    fy = product(y, y)\n",
    "    fz = product(z, z, z, z, z)\n",
    "    fxyz = sum(fx, fy, fz)\n",
    "    return fxyz\n",
    "function(2,3,5)"
   ]
  },
  {
   "cell_type": "code",
   "execution_count": 116,
   "id": "7adad477",
   "metadata": {},
   "outputs": [
    {
     "data": {
      "text/plain": [
       "3154"
      ]
     },
     "execution_count": 116,
     "metadata": {},
     "output_type": "execute_result"
    }
   ],
   "source": [
    "def ordinary_function(x,y,z):\n",
    "    hasil_fungsi = 10*x + y**2 + z**5\n",
    "    return hasil_fungsi\n",
    "ordinary_function(2,3,5)"
   ]
  },
  {
   "cell_type": "code",
   "execution_count": null,
   "id": "c1451e4e",
   "metadata": {},
   "outputs": [],
   "source": [
    "#bikin calculator & module\n",
    "#nanti coba import di vscode juga ya"
   ]
  },
  {
   "cell_type": "code",
   "execution_count": 117,
   "id": "f14fffcc",
   "metadata": {},
   "outputs": [],
   "source": [
    "import Calculator"
   ]
  },
  {
   "cell_type": "code",
   "execution_count": 118,
   "id": "bbcd32b1",
   "metadata": {},
   "outputs": [
    {
     "name": "stdout",
     "output_type": "stream",
     "text": [
      "50\n"
     ]
    }
   ],
   "source": [
    "print(Calculator.multiply(10,5))"
   ]
  },
  {
   "cell_type": "code",
   "execution_count": 119,
   "id": "2781833b",
   "metadata": {},
   "outputs": [],
   "source": [
    "import Calculator as cl"
   ]
  },
  {
   "cell_type": "code",
   "execution_count": 120,
   "id": "88995fd8",
   "metadata": {},
   "outputs": [
    {
     "data": {
      "text/plain": [
       "9"
      ]
     },
     "execution_count": 120,
     "metadata": {},
     "output_type": "execute_result"
    }
   ],
   "source": [
    "cl.add(4,5)"
   ]
  },
  {
   "cell_type": "code",
   "execution_count": 122,
   "id": "05f3be03",
   "metadata": {},
   "outputs": [],
   "source": [
    "import numpy as np"
   ]
  },
  {
   "cell_type": "code",
   "execution_count": 123,
   "id": "264346f0",
   "metadata": {},
   "outputs": [
    {
     "data": {
      "text/plain": [
       "3.141592653589793"
      ]
     },
     "execution_count": 123,
     "metadata": {},
     "output_type": "execute_result"
    }
   ],
   "source": [
    "np.pi"
   ]
  },
  {
   "cell_type": "code",
   "execution_count": 125,
   "id": "b6cd36cd",
   "metadata": {},
   "outputs": [],
   "source": [
    "#module pytube"
   ]
  },
  {
   "cell_type": "code",
   "execution_count": null,
   "id": "0420208d",
   "metadata": {},
   "outputs": [],
   "source": [
    "#module sama package apa bedanya?\n",
    "#package itu kumpulan dari module dalam satu folder"
   ]
  }
 ],
 "metadata": {
  "kernelspec": {
   "display_name": "Python 3",
   "language": "python",
   "name": "python3"
  },
  "language_info": {
   "codemirror_mode": {
    "name": "ipython",
    "version": 3
   },
   "file_extension": ".py",
   "mimetype": "text/x-python",
   "name": "python",
   "nbconvert_exporter": "python",
   "pygments_lexer": "ipython3",
   "version": "3.8.8"
  },
  "toc": {
   "base_numbering": 1,
   "nav_menu": {},
   "number_sections": false,
   "sideBar": true,
   "skip_h1_title": false,
   "title_cell": "Table of Contents",
   "title_sidebar": "Contents",
   "toc_cell": false,
   "toc_position": {},
   "toc_section_display": true,
   "toc_window_display": false
  },
  "varInspector": {
   "cols": {
    "lenName": 16,
    "lenType": 16,
    "lenVar": 40
   },
   "kernels_config": {
    "python": {
     "delete_cmd_postfix": "",
     "delete_cmd_prefix": "del ",
     "library": "var_list.py",
     "varRefreshCmd": "print(var_dic_list())"
    },
    "r": {
     "delete_cmd_postfix": ") ",
     "delete_cmd_prefix": "rm(",
     "library": "var_list.r",
     "varRefreshCmd": "cat(var_dic_list()) "
    }
   },
   "types_to_exclude": [
    "module",
    "function",
    "builtin_function_or_method",
    "instance",
    "_Feature"
   ],
   "window_display": false
  }
 },
 "nbformat": 4,
 "nbformat_minor": 5
}
