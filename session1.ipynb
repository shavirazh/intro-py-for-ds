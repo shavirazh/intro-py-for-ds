{
 "cells": [
  {
   "cell_type": "code",
   "execution_count": 1,
   "id": "5204ba8b",
   "metadata": {},
   "outputs": [
    {
     "name": "stdout",
     "output_type": "stream",
     "text": [
      "hello world\n"
     ]
    }
   ],
   "source": [
    "print('hello world')"
   ]
  },
  {
   "cell_type": "code",
   "execution_count": 2,
   "id": "cdfe6a00",
   "metadata": {},
   "outputs": [],
   "source": [
    "myList = [1,2,3,4,5]\n",
    "myList2 = [5,6,7,8,9,10]"
   ]
  },
  {
   "cell_type": "code",
   "execution_count": 6,
   "id": "e08cfb12",
   "metadata": {},
   "outputs": [],
   "source": [
    "myList3 = (myList + myList2)"
   ]
  },
  {
   "cell_type": "code",
   "execution_count": 7,
   "id": "31053c73",
   "metadata": {},
   "outputs": [
    {
     "name": "stdout",
     "output_type": "stream",
     "text": [
      "[1, 2, 3, 4, 5, 5, 6, 7, 8, 9, 10]\n"
     ]
    }
   ],
   "source": [
    "print(myList3)"
   ]
  },
  {
   "cell_type": "code",
   "execution_count": 8,
   "id": "eefc483f",
   "metadata": {},
   "outputs": [
    {
     "name": "stdout",
     "output_type": "stream",
     "text": [
      "None\n"
     ]
    }
   ],
   "source": [
    "print(myList3.sort())"
   ]
  },
  {
   "cell_type": "code",
   "execution_count": 9,
   "id": "414736ee",
   "metadata": {},
   "outputs": [],
   "source": [
    "my3List = myList3"
   ]
  },
  {
   "cell_type": "code",
   "execution_count": 11,
   "id": "a94459bf",
   "metadata": {},
   "outputs": [
    {
     "name": "stdout",
     "output_type": "stream",
     "text": [
      "None\n"
     ]
    }
   ],
   "source": [
    "print(my3List.sort())"
   ]
  },
  {
   "cell_type": "code",
   "execution_count": 12,
   "id": "5b18200d",
   "metadata": {
    "scrolled": true
   },
   "outputs": [
    {
     "data": {
      "text/plain": [
       "11"
      ]
     },
     "execution_count": 12,
     "metadata": {},
     "output_type": "execute_result"
    }
   ],
   "source": [
    "len(my3List)"
   ]
  },
  {
   "cell_type": "code",
   "execution_count": 19,
   "id": "8fc4d7cc",
   "metadata": {},
   "outputs": [
    {
     "name": "stdout",
     "output_type": "stream",
     "text": [
      "[10, 9, 8, 7, 6, 5, 5, 4, 3, 2, 1]\n"
     ]
    }
   ],
   "source": [
    "my3List.sort(reverse=True)\n",
    "print(my3List)"
   ]
  },
  {
   "cell_type": "code",
   "execution_count": 20,
   "id": "587e9359",
   "metadata": {},
   "outputs": [],
   "source": [
    "myList = [10,9,8,6,7]\n",
    "existVal = myList[3]\n",
    "myList[3] = myList[4]\n",
    "myList[4] = existVal"
   ]
  },
  {
   "cell_type": "code",
   "execution_count": 21,
   "id": "47498350",
   "metadata": {},
   "outputs": [
    {
     "data": {
      "text/plain": [
       "[10, 9, 8, 7, 6]"
      ]
     },
     "execution_count": 21,
     "metadata": {},
     "output_type": "execute_result"
    }
   ],
   "source": [
    "myList"
   ]
  },
  {
   "cell_type": "code",
   "execution_count": 23,
   "id": "2815dc28",
   "metadata": {},
   "outputs": [],
   "source": [
    "aboutMe = {'name':['yeonjun','beomgyu'],'age':22}"
   ]
  },
  {
   "cell_type": "code",
   "execution_count": 24,
   "id": "3c3d859e",
   "metadata": {},
   "outputs": [
    {
     "data": {
      "text/plain": [
       "['yeonjun', 'beomgyu']"
      ]
     },
     "execution_count": 24,
     "metadata": {},
     "output_type": "execute_result"
    }
   ],
   "source": [
    "aboutMe['name']"
   ]
  },
  {
   "cell_type": "code",
   "execution_count": 25,
   "id": "e24147f7",
   "metadata": {},
   "outputs": [
    {
     "data": {
      "text/plain": [
       "'yeonjun'"
      ]
     },
     "execution_count": 25,
     "metadata": {},
     "output_type": "execute_result"
    }
   ],
   "source": [
    "aboutMe['name'][0]"
   ]
  },
  {
   "cell_type": "code",
   "execution_count": null,
   "id": "d6716267",
   "metadata": {},
   "outputs": [],
   "source": [
    "#this is for introduction purp"
   ]
  },
  {
   "cell_type": "code",
   "execution_count": 11,
   "id": "9dbb7bfa",
   "metadata": {},
   "outputs": [],
   "source": [
    "myDict = {'name':'vira','age':20}"
   ]
  },
  {
   "cell_type": "code",
   "execution_count": 13,
   "id": "9f11607d",
   "metadata": {},
   "outputs": [
    {
     "data": {
      "text/plain": [
       "'vira'"
      ]
     },
     "execution_count": 13,
     "metadata": {},
     "output_type": "execute_result"
    }
   ],
   "source": [
    "myDict['name']"
   ]
  },
  {
   "cell_type": "code",
   "execution_count": 14,
   "id": "32f2163f",
   "metadata": {},
   "outputs": [],
   "source": [
    "myTuple = (1,2,'vira')"
   ]
  },
  {
   "cell_type": "code",
   "execution_count": 19,
   "id": "3e4880ad",
   "metadata": {},
   "outputs": [
    {
     "data": {
      "text/plain": [
       "'vira'"
      ]
     },
     "execution_count": 19,
     "metadata": {},
     "output_type": "execute_result"
    }
   ],
   "source": [
    "myTuple[-1]"
   ]
  },
  {
   "cell_type": "code",
   "execution_count": null,
   "id": "95a358f0",
   "metadata": {},
   "outputs": [],
   "source": []
  }
 ],
 "metadata": {
  "kernelspec": {
   "display_name": "Python 3",
   "language": "python",
   "name": "python3"
  },
  "language_info": {
   "codemirror_mode": {
    "name": "ipython",
    "version": 3
   },
   "file_extension": ".py",
   "mimetype": "text/x-python",
   "name": "python",
   "nbconvert_exporter": "python",
   "pygments_lexer": "ipython3",
   "version": "3.8.8"
  }
 },
 "nbformat": 4,
 "nbformat_minor": 5
}
